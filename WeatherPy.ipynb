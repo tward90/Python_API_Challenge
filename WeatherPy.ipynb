{
 "cells": [
  {
   "cell_type": "markdown",
   "metadata": {},
   "source": [
    "# WeatherPy\n",
    "----\n",
    "\n",
    "#### Note\n",
    "* Instructions have been included for each segment. You do not have to follow them exactly, but they are included to help you think through the steps."
   ]
  },
  {
   "cell_type": "code",
   "execution_count": 6,
   "metadata": {
    "scrolled": true
   },
   "outputs": [],
   "source": [
    "# Dependencies and Setup\n",
    "import matplotlib.pyplot as plt\n",
    "import pandas as pd\n",
    "import numpy as np\n",
    "import requests\n",
    "import time\n",
    "from scipy.stats import linregress\n",
    "from pprint import pprint\n",
    "from datetime import datetime\n",
    "import scipy.stats as st\n",
    "\n",
    "# Import API key\n",
    "from api_keys import weather_api_key as w_api\n",
    "\n",
    "# Incorporated citipy to determine city based on latitude and longitude\n",
    "from citipy import citipy\n",
    "\n",
    "# Output File (CSV)\n",
    "output_data_file = 'output_data/cities.csv'\n",
    "\n",
    "# Range of latitudes and longitudes\n",
    "lat_range = (-90, 90)\n",
    "lng_range = (-180, 180)"
   ]
  },
  {
   "cell_type": "markdown",
   "metadata": {},
   "source": [
    "## Generate Cities List"
   ]
  },
  {
   "cell_type": "code",
   "execution_count": 7,
   "metadata": {},
   "outputs": [
    {
     "data": {
      "text/plain": [
       "596"
      ]
     },
     "execution_count": 7,
     "metadata": {},
     "output_type": "execute_result"
    }
   ],
   "source": [
    "# List for holding lat_lngs and cities\n",
    "lat_lngs = []\n",
    "cities = []\n",
    "\n",
    "# Create a set of random lat and lng combinations\n",
    "lats = np.random.uniform(lat_range[0], lat_range[1], size=1500)\n",
    "lngs = np.random.uniform(lng_range[0], lng_range[1], size=1500)\n",
    "lat_lngs = zip(lats, lngs)\n",
    "\n",
    "# Identify nearest city for each lat, lng combination\n",
    "for lat_lng in lat_lngs:\n",
    "    city = citipy.nearest_city(lat_lng[0], lat_lng[1]).city_name\n",
    "    \n",
    "    # If the city is unique, then add it to a our cities list\n",
    "    if city not in cities:\n",
    "        cities.append(city)\n",
    "\n",
    "# Print the city count to confirm sufficient count\n",
    "len(cities)"
   ]
  },
  {
   "cell_type": "markdown",
   "metadata": {},
   "source": [
    "### Perform API Calls\n",
    "* Perform a weather check on each city using a series of successive API calls.\n",
    "* Include a print log of each city as it'sbeing processed (with the city number and city name).\n"
   ]
  },
  {
   "cell_type": "code",
   "execution_count": 8,
   "metadata": {},
   "outputs": [
    {
     "name": "stdout",
     "output_type": "stream",
     "text": [
      "Beginning Data Retrieval\n",
      "-----------------------------------\n",
      "Processing Record 1. | Ribeira Grande\n",
      "Processing Record 2. | Busselton\n",
      "Processing Record 3. | Oum Hadjer\n",
      "Processing Record 4. | Constitucion\n",
      "Record: 5 / City: Falealupo not found. Proceeding to next record. \n",
      "Processing Record 6. | Peniche\n",
      "Processing Record 7. | Airai\n",
      "Processing Record 8. | Puerto Carreno\n",
      "Processing Record 9. | Junin\n",
      "Processing Record 10. | Kiboga\n",
      "Processing Record 11. | Bethel\n",
      "Processing Record 12. | Albany\n",
      "Processing Record 13. | Vaini\n",
      "Processing Record 14. | Bluff\n",
      "Processing Record 15. | Dikson\n",
      "Processing Record 16. | Egvekinot\n",
      "Processing Record 17. | Chokurdakh\n",
      "Processing Record 18. | San Quintin\n",
      "Processing Record 19. | Muravlenko\n",
      "Processing Record 20. | Canto Do Buriti\n",
      "Processing Record 21. | Nome\n",
      "Processing Record 22. | Saldanha\n",
      "Processing Record 23. | Cape Town\n",
      "Processing Record 24. | Punta Arenas\n",
      "Processing Record 25. | Pacific Grove\n",
      "Processing Record 26. | New Norfolk\n",
      "Processing Record 27. | Ushuaia\n",
      "Processing Record 28. | East London\n",
      "Processing Record 29. | Dornoch\n",
      "Record: 30 / City: Illoqqortoormiut not found. Proceeding to next record. \n",
      "Processing Record 31. | Hobart\n",
      "Processing Record 32. | Khasan\n",
      "Processing Record 33. | Georgetown\n",
      "Processing Record 34. | Severo-Kurilsk\n",
      "Processing Record 35. | Gasa\n",
      "Processing Record 36. | Yellowknife\n",
      "Processing Record 37. | Sarlat-La-Caneda\n",
      "Record: 38 / City: Barentsburg not found. Proceeding to next record. \n",
      "Processing Record 39. | Chukhloma\n",
      "Processing Record 40. | Acajutla\n",
      "Processing Record 41. | Yar-Sale\n",
      "Processing Record 42. | Faanui\n",
      "Processing Record 43. | Araouane\n",
      "Record: 44 / City: Lolua not found. Proceeding to next record. \n",
      "Processing Record 45. | Cartagena\n",
      "Processing Record 46. | Saint George\n",
      "Processing Record 47. | Ouadda\n",
      "Processing Record 48. | Rikitea\n",
      "Processing Record 49. | Atuona\n",
      "Processing Record 50. | Pevek\n",
      "Processing Record 51. | Husavik\n",
      "Record: 52 / City: Haibowan not found. Proceeding to next record. \n",
      "Processing Record 53. | Salalah\n",
      "Processing Record 54. | Panama City\n",
      "Processing Record 55. | Chicama\n",
      "Processing Record 56. | Jamestown\n",
      "Record: 57 / City: Rungata not found. Proceeding to next record. \n",
      "Processing Record 58. | Bilibino\n",
      "Processing Record 59. | Bredasdorp\n",
      "Processing Record 60. | Carbonear\n",
      "Processing Record 61. | Puerto Ayora\n",
      "Processing Record 62. | Lykhivka\n",
      "Processing Record 63. | Barrow\n",
      "Processing Record 64. | Karratha\n",
      "Processing Record 65. | Casa Grande\n",
      "Processing Record 66. | Cidreira\n",
      "Processing Record 67. | Port Alfred\n",
      "Processing Record 68. | Amuntai\n",
      "Processing Record 69. | Two Hills\n",
      "Record: 70 / City: Tsihombe not found. Proceeding to next record. \n",
      "Processing Record 71. | Sitka\n",
      "Processing Record 72. | Saint-Pierre\n",
      "Processing Record 73. | Kodiak\n",
      "Processing Record 74. | Quatre Cocos\n",
      "Processing Record 75. | Itarema\n",
      "Processing Record 76. | Hit\n",
      "Processing Record 77. | Haines Junction\n",
      "Processing Record 78. | Brae\n",
      "Processing Record 79. | Arraial Do Cabo\n",
      "Processing Record 80. | Mehamn\n",
      "Processing Record 81. | Grindavik\n",
      "Processing Record 82. | Kadyy\n",
      "Record: 83 / City: Amderma not found. Proceeding to next record. \n",
      "Processing Record 84. | Castro\n",
      "Processing Record 85. | Gat\n",
      "Processing Record 86. | Qaanaaq\n",
      "Processing Record 87. | Severodvinsk\n",
      "Record: 88 / City: Barroualie not found. Proceeding to next record. \n",
      "Processing Record 89. | Sao Caetano De Odivelas\n",
      "Processing Record 90. | Avarua\n",
      "Processing Record 91. | Narsaq\n",
      "Processing Record 92. | Lagoa\n",
      "Record: 93 / City: Taolanaro not found. Proceeding to next record. \n",
      "Processing Record 94. | Destin\n",
      "Processing Record 95. | Pangnirtung\n",
      "Processing Record 96. | Dukat\n",
      "Processing Record 97. | Reconquista\n",
      "Processing Record 98. | Noumea\n",
      "Processing Record 99. | Namibe\n",
      "Processing Record 100. | Vila Franca Do Campo\n",
      "Processing Record 101. | Nanortalik\n",
      "Processing Record 102. | Grand Gaube\n",
      "Processing Record 103. | Nizwa\n",
      "Processing Record 104. | Semirom\n",
      "Processing Record 105. | Mataura\n",
      "Record: 106 / City: Belushya Guba not found. Proceeding to next record. \n",
      "Processing Record 107. | Dayong\n",
      "Processing Record 108. | Vostok\n",
      "Processing Record 109. | Pendleton\n",
      "Processing Record 110. | Cabo San Lucas\n",
      "Processing Record 111. | Port Elizabeth\n",
      "Processing Record 112. | Santa Isabel Do Rio Negro\n",
      "Record: 113 / City: Grand River South East not found. Proceeding to next record. \n",
      "Processing Record 114. | Mpongwe\n",
      "Processing Record 115. | Tuktoyaktuk\n",
      "Processing Record 116. | Svetlogorsk\n",
      "Processing Record 117. | Kapaa\n",
      "Processing Record 118. | Killarney\n",
      "Processing Record 119. | Porangatu\n",
      "Processing Record 120. | Tomatlan\n",
      "Processing Record 121. | Longyearbyen\n",
      "Processing Record 122. | Ugoofaaru\n",
      "Processing Record 123. | Ryotsu\n",
      "Record: 124 / City: Labutta not found. Proceeding to next record. \n",
      "Processing Record 125. | Ponta Do Sol\n",
      "Processing Record 126. | Zhigansk\n",
      "Record: 127 / City: Attawapiskat not found. Proceeding to next record. \n",
      "Processing Record 128. | Necochea\n",
      "Processing Record 129. | Port Hedland\n",
      "Processing Record 130. | Ambon\n",
      "Processing Record 131. | Hun\n",
      "Processing Record 132. | Fort Nelson\n",
      "Processing Record 133. | Lebu\n",
      "Processing Record 134. | San Jose\n",
      "Processing Record 135. | Hilo\n",
      "Processing Record 136. | Lyuban\n",
      "Processing Record 137. | Darhan\n",
      "Processing Record 138. | La Montanita\n",
      "Processing Record 139. | Malkangiri\n",
      "Processing Record 140. | Poum\n",
      "Processing Record 141. | Praia\n",
      "Processing Record 142. | Raton\n",
      "Processing Record 143. | Ovalle\n",
      "Processing Record 144. | Hamilton\n",
      "Processing Record 145. | Cherskiy\n",
      "Processing Record 146. | Kaeo\n",
      "Processing Record 147. | Tiksi\n",
      "Processing Record 148. | Flinders\n",
      "Processing Record 149. | Abalak\n",
      "Processing Record 150. | Mar Del Plata\n",
      "Processing Record 151. | Hithadhoo\n",
      "Processing Record 152. | Saskylakh\n",
      "Record: 153 / City: Nizhneyansk not found. Proceeding to next record. \n",
      "Processing Record 154. | Khatanga\n",
      "Processing Record 155. | Saint-Philippe\n",
      "Processing Record 156. | Morondava\n",
      "Processing Record 157. | Ancud\n",
      "Processing Record 158. | Chuy\n",
      "Processing Record 159. | Faya\n",
      "Record: 160 / City: Vaitupu not found. Proceeding to next record. \n",
      "Processing Record 161. | Lavrentiya\n",
      "Processing Record 162. | Qaqortoq\n",
      "Processing Record 163. | Revelstoke\n",
      "Processing Record 164. | Tuatapere\n",
      "Processing Record 165. | Leningradskiy\n",
      "Record: 166 / City: Samusu not found. Proceeding to next record. \n",
      "Processing Record 167. | Kempele\n",
      "Processing Record 168. | Klaksvik\n",
      "Processing Record 169. | Meadow Lake\n",
      "Processing Record 170. | Lazaro Cardenas\n",
      "Processing Record 171. | Mahebourg\n",
      "Processing Record 172. | Dawei\n",
      "Processing Record 173. | Pachora\n",
      "Processing Record 174. | Butaritari\n",
      "Processing Record 175. | Talnakh\n",
      "Processing Record 176. | Phalaborwa\n",
      "Processing Record 177. | Bengkulu\n",
      "Processing Record 178. | Praxedis Guerrero\n",
      "Processing Record 179. | Ulladulla\n",
      "Processing Record 180. | Ngama\n",
      "Processing Record 181. | Kattivakkam\n",
      "Processing Record 182. | Dengzhou\n",
      "Processing Record 183. | Huarmey\n",
      "Processing Record 184. | Bushehr\n",
      "Processing Record 185. | Nova Milanese\n",
      "Record: 186 / City: Jabiru not found. Proceeding to next record. \n",
      "Processing Record 187. | Bosaso\n",
      "Processing Record 188. | Los Llanos De Aridane\n",
      "Processing Record 189. | Sao Joao Da Barra\n",
      "Record: 190 / City: Umzimvubu not found. Proceeding to next record. \n",
      "Processing Record 191. | Alice Springs\n",
      "Processing Record 192. | Cacu\n",
      "Processing Record 193. | Russell\n",
      "Processing Record 194. | Kungurtug\n",
      "Processing Record 195. | Katherine\n",
      "Processing Record 196. | Kahului\n",
      "Processing Record 197. | Beisfjord\n",
      "Processing Record 198. | Tasiilaq\n",
      "Processing Record 199. | Bartica\n",
      "Record: 200 / City: Sentyabrskiy not found. Proceeding to next record. \n",
      "Processing Record 201. | Placido De Castro\n",
      "Processing Record 202. | Porto Walter\n",
      "Processing Record 203. | Hermanus\n",
      "Processing Record 204. | Urumqi\n",
      "Processing Record 205. | Massaguet\n",
      "Processing Record 206. | Nikolskoye\n",
      "Processing Record 207. | Taber\n",
      "Processing Record 208. | Geraldton\n",
      "Processing Record 209. | Camden\n",
      "Processing Record 210. | Provideniya\n",
      "Processing Record 211. | Bubaque\n",
      "Processing Record 212. | San Patricio\n",
      "Processing Record 213. | Svetlyy\n",
      "Processing Record 214. | Yurginskoye\n",
      "Processing Record 215. | Porto Nacional\n",
      "Processing Record 216. | Victoria\n",
      "Processing Record 217. | Jalu\n",
      "Processing Record 218. | Komsomolskiy\n",
      "Processing Record 219. | Minas\n"
     ]
    },
    {
     "name": "stdout",
     "output_type": "stream",
     "text": [
      "Processing Record 220. | Zihuatanejo\n",
      "Processing Record 221. | Yulara\n",
      "Processing Record 222. | Kruisfontein\n",
      "Processing Record 223. | Avera\n",
      "Processing Record 224. | Penicuik\n",
      "Processing Record 225. | Ilulissat\n",
      "Processing Record 226. | Ndola\n",
      "Processing Record 227. | Dondo\n",
      "Processing Record 228. | Upernavik\n",
      "Processing Record 229. | Norman Wells\n",
      "Record: 230 / City: Tawkar not found. Proceeding to next record. \n",
      "Processing Record 231. | Bembereke\n",
      "Processing Record 232. | Isangel\n",
      "Processing Record 233. | Hofn\n",
      "Processing Record 234. | Tommot\n",
      "Processing Record 235. | Hambantota\n",
      "Processing Record 236. | Bonthe\n",
      "Processing Record 237. | Berlevag\n",
      "Record: 238 / City: Mys Shmidta not found. Proceeding to next record. \n",
      "Processing Record 239. | Muros\n",
      "Processing Record 240. | Dunda\n",
      "Processing Record 241. | Mercedes\n",
      "Processing Record 242. | Sayyan\n",
      "Record: 243 / City: Yuzhno-Yeniseyskiy not found. Proceeding to next record. \n",
      "Processing Record 244. | Kyra\n",
      "Processing Record 245. | Deep River\n",
      "Processing Record 246. | Thinadhoo\n",
      "Processing Record 247. | Carauari\n",
      "Processing Record 248. | Jorochito\n",
      "Processing Record 249. | Clyde River\n",
      "Processing Record 250. | Asau\n",
      "Processing Record 251. | Vanavara\n",
      "Processing Record 252. | Tabou\n",
      "Processing Record 253. | Rusera\n",
      "Processing Record 254. | Odweyne\n",
      "Processing Record 255. | Znamenskoye\n",
      "Processing Record 256. | Samarai\n",
      "Processing Record 257. | Itoman\n",
      "Processing Record 258. | Ouesso\n",
      "Processing Record 259. | Ornskoldsvik\n",
      "Processing Record 260. | Neuquen\n",
      "Processing Record 261. | At-Bashi\n",
      "Processing Record 262. | Tessalit\n",
      "Processing Record 263. | Skjervoy\n",
      "Processing Record 264. | Hasaki\n",
      "Processing Record 265. | Kyabram\n",
      "Processing Record 266. | Aktash\n",
      "Processing Record 267. | Tucuman\n",
      "Record: 268 / City: Solovetskiy not found. Proceeding to next record. \n",
      "Processing Record 269. | San Cristobal\n",
      "Processing Record 270. | Coahuayana\n",
      "Processing Record 271. | Kayerkan\n",
      "Processing Record 272. | Axim\n",
      "Processing Record 273. | San Juan\n",
      "Processing Record 274. | Makokou\n",
      "Processing Record 275. | Evensk\n",
      "Processing Record 276. | Batagay\n",
      "Processing Record 277. | Lucea\n",
      "Processing Record 278. | Andenes\n",
      "Processing Record 279. | Vardo\n",
      "Processing Record 280. | Udachnyy\n",
      "Processing Record 281. | Acapulco\n",
      "Processing Record 282. | Katangli\n",
      "Processing Record 283. | Lar\n",
      "Processing Record 284. | Dalvik\n",
      "Processing Record 285. | Dunedin\n",
      "Processing Record 286. | Souillac\n",
      "Processing Record 287. | Goure\n",
      "Processing Record 288. | Dongsheng\n",
      "Processing Record 289. | Coihaique\n",
      "Processing Record 290. | Talcahuano\n",
      "Processing Record 291. | Fuling\n",
      "Processing Record 292. | Bere\n",
      "Processing Record 293. | Touros\n",
      "Processing Record 294. | Ritchie\n",
      "Processing Record 295. | Mount Isa\n",
      "Processing Record 296. | Tall Kayf\n",
      "Processing Record 297. | Mayor Pablo Lagerenza\n",
      "Processing Record 298. | Mersing\n",
      "Processing Record 299. | Vaitape\n",
      "Record: 300 / City: Tharrawaddy not found. Proceeding to next record. \n",
      "Processing Record 301. | Kresna\n",
      "Processing Record 302. | Wembley\n",
      "Processing Record 303. | Lorengau\n",
      "Processing Record 304. | Saint-Denis\n",
      "Processing Record 305. | Caravelas\n",
      "Processing Record 306. | Yichang\n",
      "Processing Record 307. | Oktyabrskiy\n",
      "Processing Record 308. | Beidao\n",
      "Processing Record 309. | Sioux Lookout\n",
      "Processing Record 310. | Shakiso\n",
      "Processing Record 311. | Nucet\n",
      "Processing Record 312. | Virginia Beach\n",
      "Processing Record 313. | Hubli\n",
      "Processing Record 314. | Maykor\n",
      "Processing Record 315. | Broome\n",
      "Processing Record 316. | Namatanai\n",
      "Record: 317 / City: Burica not found. Proceeding to next record. \n",
      "Processing Record 318. | Thompson\n",
      "Processing Record 319. | Jussara\n",
      "Processing Record 320. | Praia Da Vitoria\n",
      "Processing Record 321. | San Carlos\n",
      "Processing Record 322. | Bambanglipuro\n",
      "Record: 323 / City: Sorvag not found. Proceeding to next record. \n",
      "Processing Record 324. | Ried\n",
      "Processing Record 325. | Kamenka\n",
      "Processing Record 326. | Yuli\n",
      "Processing Record 327. | Silale\n",
      "Processing Record 328. | Sorland\n",
      "Record: 329 / City: Buon Me Thuot not found. Proceeding to next record. \n",
      "Processing Record 330. | Languyan\n",
      "Processing Record 331. | Havre-Saint-Pierre\n",
      "Processing Record 332. | Matara\n",
      "Processing Record 333. | Verkhnetulomskiy\n",
      "Processing Record 334. | Pacocha\n",
      "Processing Record 335. | Novoagansk\n",
      "Processing Record 336. | Tsiroanomandidy\n",
      "Processing Record 337. | Fairhope\n",
      "Processing Record 338. | Havelock\n",
      "Processing Record 339. | Batabano\n",
      "Processing Record 340. | Frontera\n",
      "Processing Record 341. | Oranjemund\n",
      "Processing Record 342. | Cockburn Town\n",
      "Processing Record 343. | Bagotville\n",
      "Processing Record 344. | Warner Robins\n",
      "Processing Record 345. | Port Blair\n",
      "Record: 346 / City: Mentok not found. Proceeding to next record. \n",
      "Processing Record 347. | Ishigaki\n",
      "Processing Record 348. | Igrim\n",
      "Processing Record 349. | Tilichiki\n",
      "Record: 350 / City: Ciras not found. Proceeding to next record. \n",
      "Processing Record 351. | Ayan\n",
      "Record: 352 / City: Hihifo not found. Proceeding to next record. \n",
      "Processing Record 353. | Itanagar\n",
      "Processing Record 354. | Biloxi\n",
      "Processing Record 355. | Sainte-Suzanne\n",
      "Processing Record 356. | Beira\n",
      "Processing Record 357. | Millinocket\n",
      "Processing Record 358. | Marsa Matruh\n",
      "Processing Record 359. | Bulls\n",
      "Processing Record 360. | Nagina\n",
      "Processing Record 361. | Asfi\n",
      "Processing Record 362. | Esperance\n",
      "Processing Record 363. | Lovozero\n",
      "Processing Record 364. | Chalus\n",
      "Processing Record 365. | Padang\n",
      "Processing Record 366. | Kavieng\n",
      "Processing Record 367. | Gulu\n",
      "Processing Record 368. | Dubrovnik\n",
      "Processing Record 369. | Sorong\n",
      "Processing Record 370. | Uray\n",
      "Processing Record 371. | Portland\n",
      "Processing Record 372. | Svetlaya\n",
      "Processing Record 373. | Dauphin\n",
      "Processing Record 374. | Krutikha\n",
      "Processing Record 375. | Kilindoni\n",
      "Processing Record 376. | Mizdah\n",
      "Processing Record 377. | Carnarvon\n",
      "Processing Record 378. | Luderitz\n",
      "Processing Record 379. | Marrakesh\n",
      "Processing Record 380. | Olafsvik\n",
      "Processing Record 381. | Nemuro\n",
      "Processing Record 382. | Yerky\n",
      "Processing Record 383. | Marawi\n",
      "Processing Record 384. | Yumen\n",
      "Processing Record 385. | Isla Vista\n",
      "Processing Record 386. | Kamarion\n",
      "Processing Record 387. | Kaitangata\n",
      "Processing Record 388. | Ostrovnoy\n",
      "Processing Record 389. | Saint Anthony\n",
      "Record: 390 / City: Palabuhanratu not found. Proceeding to next record. \n",
      "Processing Record 391. | Canico\n",
      "Processing Record 392. | Corinto\n",
      "Processing Record 393. | Coquimbo\n",
      "Record: 394 / City: Longlac not found. Proceeding to next record. \n",
      "Processing Record 395. | Roald\n",
      "Record: 396 / City: Navabad not found. Proceeding to next record. \n",
      "Processing Record 397. | Cayenne\n",
      "Processing Record 398. | Basco\n",
      "Processing Record 399. | Aloleng\n",
      "Processing Record 400. | Bathsheba\n",
      "Processing Record 401. | Byron Bay\n",
      "Processing Record 402. | Eureka\n",
      "Processing Record 403. | Shetpe\n",
      "Processing Record 404. | Phalombe\n",
      "Processing Record 405. | Kumluca\n",
      "Processing Record 406. | Djambala\n",
      "Processing Record 407. | Katsuura\n",
      "Processing Record 408. | Constantine\n",
      "Processing Record 409. | Klyuchi\n",
      "Processing Record 410. | Olden\n",
      "Processing Record 411. | Dabakala\n",
      "Processing Record 412. | Inhambane\n",
      "Processing Record 413. | Mahajanga\n",
      "Processing Record 414. | Kawalu\n",
      "Processing Record 415. | Altay\n",
      "Processing Record 416. | Mezimesti\n",
      "Processing Record 417. | San Rafael\n",
      "Processing Record 418. | Kununurra\n",
      "Processing Record 419. | Envira\n",
      "Processing Record 420. | Talaya\n",
      "Processing Record 421. | North Bend\n",
      "Processing Record 422. | Cape Coast\n",
      "Processing Record 423. | Montijo\n",
      "Processing Record 424. | Sekoma\n",
      "Processing Record 425. | Nam Phong\n",
      "Processing Record 426. | Lata\n",
      "Processing Record 427. | Viedma\n",
      "Processing Record 428. | Marzuq\n",
      "Processing Record 429. | Hami\n",
      "Processing Record 430. | Mount Gambier\n",
      "Processing Record 431. | Prince Rupert\n",
      "Record: 432 / City: Dzhusaly not found. Proceeding to next record. \n",
      "Processing Record 433. | Riyadh\n",
      "Record: 434 / City: Monatele not found. Proceeding to next record. \n",
      "Processing Record 435. | Rutana\n",
      "Processing Record 436. | Madera\n",
      "Processing Record 437. | Dingzhou\n",
      "Processing Record 438. | Ahipara\n",
      "Processing Record 439. | Bilma\n",
      "Processing Record 440. | Catamarca\n",
      "Record: 441 / City: Crab Hill not found. Proceeding to next record. \n",
      "Processing Record 442. | Sarkand\n",
      "Processing Record 443. | Shimoda\n",
      "Processing Record 444. | Labuhan\n",
      "Processing Record 445. | San Policarpo\n"
     ]
    },
    {
     "name": "stdout",
     "output_type": "stream",
     "text": [
      "Record: 446 / City: Bargal not found. Proceeding to next record. \n",
      "Processing Record 447. | Pittsfield\n",
      "Processing Record 448. | Port Hardy\n",
      "Processing Record 449. | Uige\n",
      "Processing Record 450. | Atar\n",
      "Processing Record 451. | Dingle\n",
      "Processing Record 452. | Mbandaka\n",
      "Record: 453 / City: Paradwip not found. Proceeding to next record. \n",
      "Processing Record 454. | Sinop\n",
      "Processing Record 455. | Saint-Francois\n",
      "Processing Record 456. | Sobolevo\n",
      "Record: 457 / City: Malwan not found. Proceeding to next record. \n",
      "Processing Record 458. | College\n",
      "Record: 459 / City: Ruatoria not found. Proceeding to next record. \n",
      "Processing Record 460. | Montes Altos\n",
      "Processing Record 461. | Bela\n",
      "Processing Record 462. | Antofagasta\n",
      "Processing Record 463. | Tateyama\n",
      "Processing Record 464. | Taltal\n",
      "Processing Record 465. | Henties Bay\n",
      "Processing Record 466. | Mafra\n",
      "Processing Record 467. | Yermakovskoye\n",
      "Processing Record 468. | Biaora\n",
      "Processing Record 469. | Wanaka\n",
      "Processing Record 470. | Aykhal\n",
      "Processing Record 471. | Walvis Bay\n",
      "Processing Record 472. | Ystad\n",
      "Processing Record 473. | Severnoye\n",
      "Processing Record 474. | Ranong\n",
      "Processing Record 475. | Lompoc\n",
      "Processing Record 476. | Linguere\n",
      "Processing Record 477. | Saint-Augustin\n",
      "Processing Record 478. | Carballo\n",
      "Processing Record 479. | Paidha\n",
      "Processing Record 480. | Mahibadhoo\n",
      "Record: 481 / City: Stekolnyy not found. Proceeding to next record. \n",
      "Processing Record 482. | Yagodnoye\n",
      "Processing Record 483. | Kota Belud\n",
      "Processing Record 484. | Gonzalez\n",
      "Processing Record 485. | Camacupa\n",
      "Processing Record 486. | Banjar\n",
      "Processing Record 487. | Wewak\n",
      "Processing Record 488. | Bitung\n",
      "Processing Record 489. | Korla\n",
      "Processing Record 490. | Pundaguitan\n",
      "Processing Record 491. | Torbay\n",
      "Processing Record 492. | Shanghai\n",
      "Record: 493 / City: Gorno-Chuyskiy not found. Proceeding to next record. \n",
      "Processing Record 494. | Yanam\n",
      "Processing Record 495. | Saquena\n",
      "Processing Record 496. | Oktyabrskoye\n",
      "Processing Record 497. | Nirgua\n",
      "Processing Record 498. | Muroto\n",
      "Processing Record 499. | Severo-Yeniseyskiy\n",
      "Processing Record 500. | Waddan\n",
      "Processing Record 501. | Kuytun\n",
      "Processing Record 502. | Astara\n",
      "Processing Record 503. | Arboletes\n",
      "Processing Record 504. | Kinablangan\n",
      "Processing Record 505. | Sao Filipe\n",
      "Processing Record 506. | Tashla\n",
      "Processing Record 507. | Kloulklubed\n",
      "Processing Record 508. | Song Phi Nong\n",
      "Processing Record 509. | Samarkand\n",
      "Processing Record 510. | Teya\n",
      "Processing Record 511. | Anloga\n",
      "Processing Record 512. | Adrar\n",
      "Processing Record 513. | Seoul\n",
      "Processing Record 514. | Barra Do Garcas\n",
      "Processing Record 515. | Poddorye\n",
      "Processing Record 516. | Rudnichnyy\n",
      "Processing Record 517. | Dwarka\n",
      "Processing Record 518. | Lugo\n",
      "Processing Record 519. | Kushiro\n",
      "Processing Record 520. | Nakhon Thai\n",
      "Processing Record 521. | Capao Da Canoa\n",
      "Processing Record 522. | Ulaanbaatar\n",
      "Processing Record 523. | Sao Jose Da Coroa Grande\n",
      "Processing Record 524. | Vallenar\n",
      "Processing Record 525. | Moindou\n",
      "Processing Record 526. | Omboue\n",
      "Processing Record 527. | Kavaratti\n",
      "Processing Record 528. | Teguldet\n",
      "Processing Record 529. | Matagami\n",
      "Record: 530 / City: Ust-Kamchatsk not found. Proceeding to next record. \n",
      "Processing Record 531. | Boende\n",
      "Processing Record 532. | Muyezerskiy\n",
      "Processing Record 533. | Bambous Virieux\n",
      "Processing Record 534. | Marmora\n",
      "Processing Record 535. | Mecca\n",
      "Processing Record 536. | Agadez\n",
      "Processing Record 537. | Surt\n",
      "Processing Record 538. | Paamiut\n",
      "Record: 539 / City: Nam Tha not found. Proceeding to next record. \n",
      "Processing Record 540. | Sao Gabriel Da Cachoeira\n",
      "Processing Record 541. | Pisco\n",
      "Processing Record 542. | Tezu\n",
      "Processing Record 543. | Kayes\n",
      "Processing Record 544. | San Ramon\n",
      "Processing Record 545. | Bafq\n",
      "Processing Record 546. | Amapa\n",
      "Processing Record 547. | Karakol\n",
      "Processing Record 548. | Srednekolymsk\n",
      "Processing Record 549. | Beloha\n",
      "Processing Record 550. | Makow Mazowiecki\n",
      "Processing Record 551. | Krasnozerskoye\n",
      "Processing Record 552. | Mountain Home\n",
      "Processing Record 553. | Wanning\n",
      "Processing Record 554. | Moree\n",
      "Processing Record 555. | Nelson Bay\n",
      "Processing Record 556. | Fortuna\n",
      "Processing Record 557. | Sotouboua\n",
      "Processing Record 558. | Umarizal\n",
      "Record: 559 / City: Zhanatas not found. Proceeding to next record. \n",
      "Processing Record 560. | Minsk\n",
      "Processing Record 561. | Bosobolo\n",
      "Processing Record 562. | Turtas\n",
      "Processing Record 563. | General Roca\n",
      "Processing Record 564. | Port Shepstone\n",
      "Processing Record 565. | La Ronge\n",
      "Processing Record 566. | Mangochi\n",
      "Processing Record 567. | Chaozhou\n",
      "Processing Record 568. | Emba\n",
      "Processing Record 569. | Batouri\n",
      "Processing Record 570. | Gari\n",
      "Processing Record 571. | Cabedelo\n",
      "Processing Record 572. | Harper\n",
      "Processing Record 573. | Bjornevatn\n",
      "Processing Record 574. | Waipawa\n",
      "Record: 575 / City: Jujuy not found. Proceeding to next record. \n",
      "Processing Record 576. | Tadine\n",
      "Processing Record 577. | Nortelandia\n",
      "Processing Record 578. | Antsohihy\n",
      "Processing Record 579. | Ejido\n",
      "Processing Record 580. | Eyl\n",
      "Processing Record 581. | Tefe\n",
      "Processing Record 582. | Ithaki\n",
      "Processing Record 583. | Oshikango\n",
      "Processing Record 584. | Ariquemes\n",
      "Processing Record 585. | Nouadhibou\n",
      "Processing Record 586. | Zdvinsk\n",
      "Processing Record 587. | Manjeshwar\n",
      "Processing Record 588. | Hvolsvollur\n",
      "Processing Record 589. | Innisfail\n",
      "Processing Record 590. | Ixtapa\n",
      "Processing Record 591. | Maningrida\n",
      "Processing Record 592. | Tura\n",
      "Record: 593 / City: Satitoa not found. Proceeding to next record. \n",
      "Processing Record 594. | Smithers\n",
      "Processing Record 595. | Teahupoo\n",
      "Processing Record 596. | Cardoso\n",
      "-----------------------------------\n",
      "Data Retrieval Complete\n",
      "-----------------------------------\n"
     ]
    }
   ],
   "source": [
    "found_city = []\n",
    "latitude = []\n",
    "longitude = []\n",
    "max_temp = []\n",
    "humidity = []\n",
    "cloudiness = []\n",
    "wind_speed = []\n",
    "country = []\n",
    "date = []\n",
    "record = 0\n",
    "\n",
    "print('Beginning Data Retrieval')\n",
    "print('-----------------------------------')\n",
    "\n",
    "for city in cities:\n",
    "    \n",
    "    #Specify base URL and the desired units\n",
    "    url = \"http://api.openweathermap.org/data/2.5/weather?\"\n",
    "    units = \"imperial\"\n",
    "\n",
    "    # Build partial query URL\n",
    "    query_url = f\"{url}appid={w_api}&units={units}&q=\" + city\n",
    "    \n",
    "    response = requests.get(query_url)\n",
    "    response_json = response.json()\n",
    "    \n",
    "    try:\n",
    "        record = record + 1\n",
    "        found_city.append(response_json['name'])\n",
    "        latitude.append(response_json['coord']['lat'])\n",
    "        longitude.append(response_json['coord']['lon'])\n",
    "        max_temp.append(response_json['main']['temp_max'])\n",
    "        humidity.append(response_json['main']['humidity'])\n",
    "        cloudiness.append(response_json['clouds']['all'])\n",
    "        wind_speed.append(response_json['wind']['speed'])\n",
    "        country.append(response_json['sys']['country'])\n",
    "        date.append(datetime.utcfromtimestamp(response_json['dt']).strftime('%Y-%m-%d %H:%M:%S'))\n",
    "        \n",
    "        print(f\"Processing Record {record}. | {city.title()}\")\n",
    "    except:\n",
    "        print(f\"Record: {record} / City: {city.title()} not found. Proceeding to next record. \")\n",
    "\n",
    "print('-----------------------------------')\n",
    "print('Data Retrieval Complete')\n",
    "print('-----------------------------------')"
   ]
  },
  {
   "cell_type": "markdown",
   "metadata": {},
   "source": [
    "### Convert Raw Data to DataFrame\n",
    "* Export the city data into a .csv.\n",
    "* Display the DataFrame"
   ]
  },
  {
   "cell_type": "code",
   "execution_count": 9,
   "metadata": {},
   "outputs": [],
   "source": [
    "city_weather = pd.DataFrame({'City': found_city,\n",
    "                             'Latitude': latitude,\n",
    "                             'Longitude': longitude,\n",
    "                             'Max Temperature (degF)': max_temp,\n",
    "                             'Humidity (%)': humidity,\n",
    "                             'Cloudiness (%)': cloudiness,\n",
    "                             'Wind Speed (mph)': wind_speed,\n",
    "                             'Country': country,\n",
    "                             \"Date/Time (UTC)\": date})\n",
    "\n",
    "city_weather.to_csv(output_data_file, index = False)"
   ]
  },
  {
   "cell_type": "code",
   "execution_count": 10,
   "metadata": {},
   "outputs": [
    {
     "data": {
      "text/html": [
       "<div>\n",
       "<style scoped>\n",
       "    .dataframe tbody tr th:only-of-type {\n",
       "        vertical-align: middle;\n",
       "    }\n",
       "\n",
       "    .dataframe tbody tr th {\n",
       "        vertical-align: top;\n",
       "    }\n",
       "\n",
       "    .dataframe thead th {\n",
       "        text-align: right;\n",
       "    }\n",
       "</style>\n",
       "<table border=\"1\" class=\"dataframe\">\n",
       "  <thead>\n",
       "    <tr style=\"text-align: right;\">\n",
       "      <th></th>\n",
       "      <th>City</th>\n",
       "      <th>Latitude</th>\n",
       "      <th>Longitude</th>\n",
       "      <th>Max Temperature (degF)</th>\n",
       "      <th>Humidity (%)</th>\n",
       "      <th>Cloudiness (%)</th>\n",
       "      <th>Wind Speed (mph)</th>\n",
       "      <th>Country</th>\n",
       "      <th>Date/Time (UTC)</th>\n",
       "    </tr>\n",
       "  </thead>\n",
       "  <tbody>\n",
       "    <tr>\n",
       "      <th>0</th>\n",
       "      <td>Ribeira Grande</td>\n",
       "      <td>38.52</td>\n",
       "      <td>-28.70</td>\n",
       "      <td>60.80</td>\n",
       "      <td>67</td>\n",
       "      <td>40</td>\n",
       "      <td>9.17</td>\n",
       "      <td>PT</td>\n",
       "      <td>2020-06-13 23:02:36</td>\n",
       "    </tr>\n",
       "    <tr>\n",
       "      <th>1</th>\n",
       "      <td>Busselton</td>\n",
       "      <td>-33.65</td>\n",
       "      <td>115.33</td>\n",
       "      <td>53.01</td>\n",
       "      <td>86</td>\n",
       "      <td>24</td>\n",
       "      <td>12.68</td>\n",
       "      <td>AU</td>\n",
       "      <td>2020-06-13 23:02:36</td>\n",
       "    </tr>\n",
       "    <tr>\n",
       "      <th>2</th>\n",
       "      <td>Umm Hājar</td>\n",
       "      <td>13.30</td>\n",
       "      <td>19.70</td>\n",
       "      <td>91.62</td>\n",
       "      <td>31</td>\n",
       "      <td>5</td>\n",
       "      <td>8.37</td>\n",
       "      <td>TD</td>\n",
       "      <td>2020-06-13 23:02:36</td>\n",
       "    </tr>\n",
       "    <tr>\n",
       "      <th>3</th>\n",
       "      <td>Constitución</td>\n",
       "      <td>-35.33</td>\n",
       "      <td>-72.42</td>\n",
       "      <td>50.07</td>\n",
       "      <td>67</td>\n",
       "      <td>79</td>\n",
       "      <td>6.44</td>\n",
       "      <td>CL</td>\n",
       "      <td>2020-06-13 23:02:36</td>\n",
       "    </tr>\n",
       "    <tr>\n",
       "      <th>4</th>\n",
       "      <td>Peniche</td>\n",
       "      <td>39.36</td>\n",
       "      <td>-9.38</td>\n",
       "      <td>60.01</td>\n",
       "      <td>86</td>\n",
       "      <td>6</td>\n",
       "      <td>5.68</td>\n",
       "      <td>PT</td>\n",
       "      <td>2020-06-13 23:02:37</td>\n",
       "    </tr>\n",
       "    <tr>\n",
       "      <th>...</th>\n",
       "      <td>...</td>\n",
       "      <td>...</td>\n",
       "      <td>...</td>\n",
       "      <td>...</td>\n",
       "      <td>...</td>\n",
       "      <td>...</td>\n",
       "      <td>...</td>\n",
       "      <td>...</td>\n",
       "      <td>...</td>\n",
       "    </tr>\n",
       "    <tr>\n",
       "      <th>543</th>\n",
       "      <td>Maningrida</td>\n",
       "      <td>-12.07</td>\n",
       "      <td>134.27</td>\n",
       "      <td>75.42</td>\n",
       "      <td>75</td>\n",
       "      <td>16</td>\n",
       "      <td>11.54</td>\n",
       "      <td>AU</td>\n",
       "      <td>2020-06-13 23:04:19</td>\n",
       "    </tr>\n",
       "    <tr>\n",
       "      <th>544</th>\n",
       "      <td>Tura</td>\n",
       "      <td>25.52</td>\n",
       "      <td>90.22</td>\n",
       "      <td>74.59</td>\n",
       "      <td>95</td>\n",
       "      <td>74</td>\n",
       "      <td>3.87</td>\n",
       "      <td>IN</td>\n",
       "      <td>2020-06-13 23:04:19</td>\n",
       "    </tr>\n",
       "    <tr>\n",
       "      <th>545</th>\n",
       "      <td>Smithers</td>\n",
       "      <td>54.78</td>\n",
       "      <td>-127.17</td>\n",
       "      <td>57.20</td>\n",
       "      <td>67</td>\n",
       "      <td>75</td>\n",
       "      <td>3.36</td>\n",
       "      <td>CA</td>\n",
       "      <td>2020-06-13 23:03:27</td>\n",
       "    </tr>\n",
       "    <tr>\n",
       "      <th>546</th>\n",
       "      <td>Teahupoo</td>\n",
       "      <td>-17.83</td>\n",
       "      <td>-149.27</td>\n",
       "      <td>86.00</td>\n",
       "      <td>70</td>\n",
       "      <td>20</td>\n",
       "      <td>11.41</td>\n",
       "      <td>PF</td>\n",
       "      <td>2020-06-13 23:04:20</td>\n",
       "    </tr>\n",
       "    <tr>\n",
       "      <th>547</th>\n",
       "      <td>Cardoso</td>\n",
       "      <td>-20.08</td>\n",
       "      <td>-49.91</td>\n",
       "      <td>73.44</td>\n",
       "      <td>53</td>\n",
       "      <td>1</td>\n",
       "      <td>2.46</td>\n",
       "      <td>BR</td>\n",
       "      <td>2020-06-13 23:04:20</td>\n",
       "    </tr>\n",
       "  </tbody>\n",
       "</table>\n",
       "<p>548 rows × 9 columns</p>\n",
       "</div>"
      ],
      "text/plain": [
       "               City  Latitude  Longitude  Max Temperature (degF)  \\\n",
       "0    Ribeira Grande     38.52     -28.70                   60.80   \n",
       "1         Busselton    -33.65     115.33                   53.01   \n",
       "2         Umm Hājar     13.30      19.70                   91.62   \n",
       "3      Constitución    -35.33     -72.42                   50.07   \n",
       "4           Peniche     39.36      -9.38                   60.01   \n",
       "..              ...       ...        ...                     ...   \n",
       "543      Maningrida    -12.07     134.27                   75.42   \n",
       "544            Tura     25.52      90.22                   74.59   \n",
       "545        Smithers     54.78    -127.17                   57.20   \n",
       "546        Teahupoo    -17.83    -149.27                   86.00   \n",
       "547         Cardoso    -20.08     -49.91                   73.44   \n",
       "\n",
       "     Humidity (%)  Cloudiness (%)  Wind Speed (mph) Country  \\\n",
       "0              67              40              9.17      PT   \n",
       "1              86              24             12.68      AU   \n",
       "2              31               5              8.37      TD   \n",
       "3              67              79              6.44      CL   \n",
       "4              86               6              5.68      PT   \n",
       "..            ...             ...               ...     ...   \n",
       "543            75              16             11.54      AU   \n",
       "544            95              74              3.87      IN   \n",
       "545            67              75              3.36      CA   \n",
       "546            70              20             11.41      PF   \n",
       "547            53               1              2.46      BR   \n",
       "\n",
       "         Date/Time (UTC)  \n",
       "0    2020-06-13 23:02:36  \n",
       "1    2020-06-13 23:02:36  \n",
       "2    2020-06-13 23:02:36  \n",
       "3    2020-06-13 23:02:36  \n",
       "4    2020-06-13 23:02:37  \n",
       "..                   ...  \n",
       "543  2020-06-13 23:04:19  \n",
       "544  2020-06-13 23:04:19  \n",
       "545  2020-06-13 23:03:27  \n",
       "546  2020-06-13 23:04:20  \n",
       "547  2020-06-13 23:04:20  \n",
       "\n",
       "[548 rows x 9 columns]"
      ]
     },
     "execution_count": 10,
     "metadata": {},
     "output_type": "execute_result"
    }
   ],
   "source": [
    "city_weather"
   ]
  },
  {
   "cell_type": "markdown",
   "metadata": {},
   "source": [
    "## Inspect the data and remove the cities where the humidity > 100%.\n",
    "----\n",
    "Skip this step if there are no cities that have humidity > 100%. "
   ]
  },
  {
   "cell_type": "code",
   "execution_count": 11,
   "metadata": {},
   "outputs": [
    {
     "name": "stdout",
     "output_type": "stream",
     "text": [
      "No city has a humidity greater than 100%\n"
     ]
    }
   ],
   "source": [
    "max_humidity = city_weather['Humidity (%)'].max()\n",
    "\n",
    "if max_humidity <= 100:\n",
    "    print('No city has a humidity greater than 100%')\n",
    "    \n",
    "#No cities have a humidity of greater than 100%"
   ]
  },
  {
   "cell_type": "code",
   "execution_count": 12,
   "metadata": {},
   "outputs": [],
   "source": [
    "#  Get the indices of cities that have humidity over 100%.\n"
   ]
  },
  {
   "cell_type": "code",
   "execution_count": 13,
   "metadata": {},
   "outputs": [],
   "source": [
    "# Make a new DataFrame equal to the city data to drop all humidity outliers by index.\n",
    "# Passing \"inplace=False\" will make a copy of the city_data DataFrame, which we call \"clean_city_data\".\n"
   ]
  },
  {
   "cell_type": "code",
   "execution_count": 14,
   "metadata": {},
   "outputs": [],
   "source": [
    "# Extract relevant fields from the data frame\n",
    "\n",
    "\n",
    "# Export the City_Data into a csv\n"
   ]
  },
  {
   "cell_type": "markdown",
   "metadata": {},
   "source": [
    "## Plotting the Data\n",
    "* Use proper labeling of the plots using plot titles (including date of analysis) and axes labels.\n",
    "* Save the plotted figures as .pngs."
   ]
  },
  {
   "cell_type": "markdown",
   "metadata": {},
   "source": [
    "## Latitude vs. Temperature Plot"
   ]
  },
  {
   "cell_type": "code",
   "execution_count": 15,
   "metadata": {
    "scrolled": true
   },
   "outputs": [
    {
     "data": {
      "image/png": "[encoded data removed]",
      "text/plain": [
       "<Figure size 432x288 with 1 Axes>"
      ]
     },
     "metadata": {
      "needs_background": "light"
     },
     "output_type": "display_data"
    },
    {
     "name": "stdout",
     "output_type": "stream",
     "text": [
      "As one would expect, the closer tothe equater one is, the higher the temperature.\n",
      "What is interesting to note, however, is that in the plot above you can see that\n",
      "the max temperature below the equator is more stable, plateauing below 30 degC.\n"
     ]
    }
   ],
   "source": [
    "#Assign Axes\n",
    "x_values = city_weather['Latitude']\n",
    "y_values = city_weather['Max Temperature (degF)']\n",
    "\n",
    "plt.scatter(x_values, y_values)\n",
    "#Title Chart\n",
    "plt.title('City Latitude vs. Temperature (degF)')\n",
    "\n",
    "#Title X-Axis\n",
    "plt.xlabel('Latitude')\n",
    "\n",
    "#Title Y-Axis\n",
    "plt.ylabel('Temperature (degF)')\n",
    "\n",
    "#Display Graph\n",
    "plt.show()\n",
    "\n",
    "#Analysis\n",
    "print('As one would expect, the closer tothe equater one is, the higher the temperature.')\n",
    "print('What is interesting to note, however, is that in the plot above you can see that')\n",
    "print('the max temperature below the equator is more stable, plateauing below 30 degC.')"
   ]
  },
  {
   "cell_type": "markdown",
   "metadata": {},
   "source": [
    "## Latitude vs. Humidity Plot"
   ]
  },
  {
   "cell_type": "code",
   "execution_count": 16,
   "metadata": {},
   "outputs": [
    {
     "data": {
      "image/png": "[encoded data removed]",
      "text/plain": [
       "<Figure size 432x288 with 1 Axes>"
      ]
     },
     "metadata": {
      "needs_background": "light"
     },
     "output_type": "display_data"
    },
    {
     "name": "stdout",
     "output_type": "stream",
     "text": [
      "There appears to be more evenly dispersed humidity levels in the northern hemisphere\n",
      "whereas in the southern hemisphere, the humidity levels are generally higher.\n"
     ]
    }
   ],
   "source": [
    "#Assign Axes\n",
    "x_values = city_weather['Latitude']\n",
    "y_values = city_weather['Humidity (%)']\n",
    "\n",
    "plt.scatter(x_values, y_values)\n",
    "#Title Chart\n",
    "plt.title('City Latitude vs. Humidity (%)')\n",
    "\n",
    "#Title X-Axis\n",
    "plt.xlabel('Latitude')\n",
    "\n",
    "#Title Y-Axis\n",
    "plt.ylabel('Humidity (%)')\n",
    "\n",
    "#Display Graph\n",
    "plt.show()\n",
    "\n",
    "#Analysis\n",
    "print('There appears to be more evenly dispersed humidity levels in the northern hemisphere')\n",
    "print('whereas in the southern hemisphere, the humidity levels are generally higher.')\n"
   ]
  },
  {
   "cell_type": "markdown",
   "metadata": {},
   "source": [
    "## Latitude vs. Cloudiness Plot"
   ]
  },
  {
   "cell_type": "code",
   "execution_count": 17,
   "metadata": {},
   "outputs": [
    {
     "data": {
      "image/png": "[encoded data removed]",
      "text/plain": [
       "<Figure size 432x288 with 1 Axes>"
      ]
     },
     "metadata": {
      "needs_background": "light"
     },
     "output_type": "display_data"
    },
    {
     "name": "stdout",
     "output_type": "stream",
     "text": [
      "Based on graph analysis alone, locations appear to be more likely to report\n",
      "values at numbers that they are comfortable with (i.e. 100%, 75%, 40%,\n",
      "20% and 0%). That would be my explanation of the \"lines\" in the plot below.\n"
     ]
    }
   ],
   "source": [
    "#Assign Axes\n",
    "x_values = city_weather['Latitude']\n",
    "y_values = city_weather['Cloudiness (%)']\n",
    "\n",
    "plt.scatter(x_values, y_values)\n",
    "#Title Chart\n",
    "plt.title('City Latitude vs. Cloudiness (%)')\n",
    "\n",
    "#Title X-Axis\n",
    "plt.xlabel('Latitude')\n",
    "\n",
    "#Title Y-Axis\n",
    "plt.ylabel('Cloudiness (%)')\n",
    "\n",
    "#Display Graph\n",
    "plt.show()\n",
    "\n",
    "print('Based on graph analysis alone, locations appear to be more likely to report')\n",
    "print('values at numbers that they are comfortable with (i.e. 100%, 75%, 40%,')\n",
    "print('20% and 0%). That would be my explanation of the \"lines\" in the plot below.')"
   ]
  },
  {
   "cell_type": "markdown",
   "metadata": {},
   "source": [
    "## Latitude vs. Wind Speed Plot"
   ]
  },
  {
   "cell_type": "code",
   "execution_count": 18,
   "metadata": {},
   "outputs": [
    {
     "data": {
      "image/png": "[encoded data removed]",
      "text/plain": [
       "<Figure size 432x288 with 1 Axes>"
      ]
     },
     "metadata": {
      "needs_background": "light"
     },
     "output_type": "display_data"
    },
    {
     "name": "stdout",
     "output_type": "stream",
     "text": [
      "Finding a pattern in the above plot is more difficult. The wind speed data looks\n",
      "to be more heterogeneous with the majority of values being reported at below 8 m/s.\n"
     ]
    }
   ],
   "source": [
    "#Assign Axes\n",
    "x_values = city_weather['Latitude']\n",
    "y_values = city_weather['Wind Speed (mph)']\n",
    "\n",
    "plt.scatter(x_values, y_values)\n",
    "#Title Chart\n",
    "plt.title('City Latitude vs. Wind Speed (mph)')\n",
    "\n",
    "#Title X-Axis\n",
    "plt.xlabel('Latitude')\n",
    "\n",
    "#Title Y-Axis\n",
    "plt.ylabel('Wind Speed (mph)')\n",
    "\n",
    "#Display Graph\n",
    "plt.show()\n",
    "\n",
    "#Analysis\n",
    "print('Finding a pattern in the above plot is more difficult. The wind speed data looks')\n",
    "print('to be more heterogeneous with the majority of values being reported at below 8 m/s.')"
   ]
  },
  {
   "cell_type": "markdown",
   "metadata": {},
   "source": [
    "## Linear Regression"
   ]
  },
  {
   "cell_type": "code",
   "execution_count": 110,
   "metadata": {},
   "outputs": [],
   "source": [
    "# OPTIONAL: Create a function to create Linear Regression plots"
   ]
  },
  {
   "cell_type": "code",
   "execution_count": 20,
   "metadata": {},
   "outputs": [],
   "source": [
    "# Create Northern and Southern Hemisphere DataFrames\n",
    "\n",
    "north = city_weather.loc[city_weather['Latitude'] >= 0]\n",
    "south = city_weather.loc[city_weather['Latitude'] < 0]"
   ]
  },
  {
   "cell_type": "markdown",
   "metadata": {},
   "source": [
    "####  Northern Hemisphere - Max Temp vs. Latitude Linear Regression"
   ]
  },
  {
   "cell_type": "code",
   "execution_count": 22,
   "metadata": {},
   "outputs": [
    {
     "data": {
      "image/png": "[encoded data removed]",
      "text/plain": [
       "<Figure size 432x288 with 1 Axes>"
      ]
     },
     "metadata": {
      "needs_background": "light"
     },
     "output_type": "display_data"
    },
    {
     "name": "stdout",
     "output_type": "stream",
     "text": [
      "The correlation coefficient between Northern Hemisphere Latitude and Temperature is -0.76\n"
     ]
    }
   ],
   "source": [
    "#Assign Axes\n",
    "x_values = north['Latitude']\n",
    "y_values = north['Max Temperature (degF)']\n",
    "\n",
    "plt.scatter(x_values, y_values)\n",
    "#Title Chart\n",
    "plt.title('Northern Hemisphere \\n City Latitude vs. Temperature (degF)')\n",
    "\n",
    "#Title X-Axis\n",
    "plt.xlabel('Latitude')\n",
    "\n",
    "#Title Y-Axis\n",
    "plt.ylabel('Temperature (degF)')\n",
    "\n",
    "#Find Linear Regression Values\n",
    "(slope, intercept, rvalue, pvalue, stderr) = linregress(x_values, y_values)\n",
    "\n",
    "#Create Equation for the Line\n",
    "line_eq = \"y = \" + str(round(slope,2)) + \"x + \" + str(round(intercept,2))\n",
    "\n",
    "#Annotate line equation on scatter plit\n",
    "plt.annotate(line_eq,(0, 40),color=\"blue\", fontsize = 16, backgroundcolor=\"w\")\n",
    "\n",
    "#Create and Display linear regression best-fit for data\n",
    "regress_values = x_values * slope + intercept\n",
    "plt.plot(x_values,regress_values, color='blue')\n",
    "\n",
    "#Display Plot\n",
    "plt.show()\n",
    "\n",
    "#Calculate correlation coefficient (not required, but wanted an indicator of fit)\n",
    "correlation = st.pearsonr(x_values,y_values)\n",
    "\n",
    "#Display Pearson correlation coefficient\n",
    "print(f\"The correlation coefficient between Northern Hemisphere Latitude and Temperature is {round(correlation[0],2)}\")"
   ]
  },
  {
   "cell_type": "markdown",
   "metadata": {},
   "source": [
    "####  Southern Hemisphere - Max Temp vs. Latitude Linear Regression"
   ]
  },
  {
   "cell_type": "code",
   "execution_count": 24,
   "metadata": {},
   "outputs": [
    {
     "data": {
      "image/png": "[encoded data removed]",
      "text/plain": [
       "<Figure size 432x288 with 1 Axes>"
      ]
     },
     "metadata": {
      "needs_background": "light"
     },
     "output_type": "display_data"
    },
    {
     "name": "stdout",
     "output_type": "stream",
     "text": [
      "The correlation coefficient between Southern Hemisphere Latitude and Temperature is 0.82\n"
     ]
    }
   ],
   "source": [
    "#Assign Axes\n",
    "x_values = south['Latitude']\n",
    "y_values = south['Max Temperature (degF)']\n",
    "\n",
    "plt.scatter(x_values, y_values)\n",
    "#Title Chart\n",
    "plt.title('Southern Hemisphere \\n City Latitude vs. Temperature (degF)')\n",
    "\n",
    "#Title X-Axis\n",
    "plt.xlabel('Latitude')\n",
    "\n",
    "#Title Y-Axis\n",
    "plt.ylabel('Temperature (degF)')\n",
    "\n",
    "#Find Linear Regression Values\n",
    "(slope, intercept, rvalue, pvalue, stderr) = linregress(x_values, y_values)\n",
    "\n",
    "#Create Equation for the Line\n",
    "line_eq = \"y = \" + str(round(slope,2)) + \"x + \" + str(round(intercept,2))\n",
    "\n",
    "#Annotate line equation on scatter plit\n",
    "plt.annotate(line_eq,(-27, 40),color=\"blue\", fontsize = 16, backgroundcolor=\"w\")\n",
    "\n",
    "#Create and Display linear regression best-fit for data\n",
    "regress_values = x_values * slope + intercept\n",
    "plt.plot(x_values,regress_values, color='blue')\n",
    "\n",
    "#Display Plot\n",
    "plt.show()\n",
    "\n",
    "#Calculate correlation coefficient (not required, but wanted an indicator of fit)\n",
    "correlation = st.pearsonr(x_values,y_values)\n",
    "\n",
    "#Display Pearson correlation coefficient\n",
    "print(f\"The correlation coefficient between Southern Hemisphere Latitude and Temperature is {round(correlation[0],2)}\")"
   ]
  },
  {
   "cell_type": "markdown",
   "metadata": {},
   "source": [
    "####  Northern Hemisphere - Humidity (%) vs. Latitude Linear Regression"
   ]
  },
  {
   "cell_type": "code",
   "execution_count": 27,
   "metadata": {},
   "outputs": [
    {
     "data": {
      "image/png": "[encoded data removed]",
      "text/plain": [
       "<Figure size 432x288 with 1 Axes>"
      ]
     },
     "metadata": {
      "needs_background": "light"
     },
     "output_type": "display_data"
    },
    {
     "name": "stdout",
     "output_type": "stream",
     "text": [
      "The correlation coefficient between Northern Hemisphere Latitude and Humidity is -0.06\n"
     ]
    }
   ],
   "source": [
    "#Assign Axes\n",
    "x_values = north['Latitude']\n",
    "y_values = north['Humidity (%)']\n",
    "\n",
    "plt.scatter(x_values, y_values)\n",
    "#Title Chart\n",
    "plt.title('Northern Hemisphere \\n City Latitude vs. Humidity (%)')\n",
    "\n",
    "#Title X-Axis\n",
    "plt.xlabel('Latitude')\n",
    "\n",
    "#Title Y-Axis\n",
    "plt.ylabel('Humidity (%)')\n",
    "\n",
    "#Find Linear Regression Values\n",
    "(slope, intercept, rvalue, pvalue, stderr) = linregress(x_values, y_values)\n",
    "\n",
    "#Create Equation for the Line\n",
    "line_eq = \"y = \" + str(round(slope,2)) + \"x + \" + str(round(intercept,2))\n",
    "\n",
    "#Annotate line equation on scatter plit\n",
    "plt.annotate(line_eq,(47, 10),color=\"blue\", fontsize = 13, backgroundcolor=\"w\")\n",
    "\n",
    "#Create and Display linear regression best-fit for data\n",
    "regress_values = x_values * slope + intercept\n",
    "plt.plot(x_values,regress_values, color='blue')\n",
    "\n",
    "#Display Plot\n",
    "plt.show()\n",
    "\n",
    "#Calculate correlation coefficient (not required, but wanted an indicator of fit)\n",
    "correlation = st.pearsonr(x_values,y_values)\n",
    "\n",
    "#Display Pearson correlation coefficient\n",
    "print(f\"The correlation coefficient between Northern Hemisphere Latitude and Humidity is {round(correlation[0],2)}\")"
   ]
  },
  {
   "cell_type": "markdown",
   "metadata": {},
   "source": [
    "####  Southern Hemisphere - Humidity (%) vs. Latitude Linear Regression"
   ]
  },
  {
   "cell_type": "code",
   "execution_count": 28,
   "metadata": {},
   "outputs": [
    {
     "data": {
      "image/png": "[encoded data removed]",
      "text/plain": [
       "<Figure size 432x288 with 1 Axes>"
      ]
     },
     "metadata": {
      "needs_background": "light"
     },
     "output_type": "display_data"
    },
    {
     "name": "stdout",
     "output_type": "stream",
     "text": [
      "The correlation coefficient between Southern Hemisphere Latitude and Humidity is 0.14\n"
     ]
    }
   ],
   "source": [
    "#Assign Axes\n",
    "x_values = south['Latitude']\n",
    "y_values = south['Humidity (%)']\n",
    "\n",
    "plt.scatter(x_values, y_values)\n",
    "#Title Chart\n",
    "plt.title('Southern Hemisphere \\n City Latitude vs. Humidity (%)')\n",
    "\n",
    "#Title X-Axis\n",
    "plt.xlabel('Latitude')\n",
    "\n",
    "#Title Y-Axis\n",
    "plt.ylabel('Humidity (%)')\n",
    "\n",
    "#Find Linear Regression Values\n",
    "(slope, intercept, rvalue, pvalue, stderr) = linregress(x_values, y_values)\n",
    "\n",
    "#Create Equation for the Line\n",
    "line_eq = \"y = \" + str(round(slope,2)) + \"x + \" + str(round(intercept,2))\n",
    "\n",
    "#Annotate line equation on scatter plit\n",
    "plt.annotate(line_eq,(-55, 17),color=\"blue\", fontsize = 13, backgroundcolor=\"w\")\n",
    "\n",
    "#Create and Display linear regression best-fit for data\n",
    "regress_values = x_values * slope + intercept\n",
    "plt.plot(x_values,regress_values, color='blue')\n",
    "\n",
    "#Display Plot\n",
    "plt.show()\n",
    "\n",
    "#Calculate correlation coefficient (not required, but wanted an indicator of fit)\n",
    "correlation = st.pearsonr(x_values,y_values)\n",
    "\n",
    "#Display Pearson correlation coefficient\n",
    "print(f\"The correlation coefficient between Southern Hemisphere Latitude and Humidity is {round(correlation[0],2)}\")"
   ]
  },
  {
   "cell_type": "markdown",
   "metadata": {},
   "source": [
    "####  Northern Hemisphere - Cloudiness (%) vs. Latitude Linear Regression"
   ]
  },
  {
   "cell_type": "code",
   "execution_count": 30,
   "metadata": {},
   "outputs": [
    {
     "data": {
      "image/png": "[encoded data removed]",
      "text/plain": [
       "<Figure size 432x288 with 1 Axes>"
      ]
     },
     "metadata": {
      "needs_background": "light"
     },
     "output_type": "display_data"
    },
    {
     "name": "stdout",
     "output_type": "stream",
     "text": [
      "The correlation coefficient between Northern Hemisphere Latitude and Cloudiness is -0.06\n"
     ]
    }
   ],
   "source": [
    "#Assign Axes\n",
    "x_values = north['Latitude']\n",
    "y_values = north['Cloudiness (%)']\n",
    "\n",
    "plt.scatter(x_values, y_values)\n",
    "#Title Chart\n",
    "plt.title('Northern Hemisphere \\n City Latitude vs. Cloudiness (%)')\n",
    "\n",
    "#Title X-Axis\n",
    "plt.xlabel('Latitude')\n",
    "\n",
    "#Title Y-Axis\n",
    "plt.ylabel('Cloudiness (%)')\n",
    "\n",
    "#Find Linear Regression Values\n",
    "(slope, intercept, rvalue, pvalue, stderr) = linregress(x_values, y_values)\n",
    "\n",
    "#Create Equation for the Line\n",
    "line_eq = \"y = \" + str(round(slope,2)) + \"x + \" + str(round(intercept,2))\n",
    "\n",
    "#Annotate line equation on scatter plit\n",
    "plt.annotate(line_eq,(48, 30),color=\"blue\", fontsize = 12, backgroundcolor=\"w\")\n",
    "\n",
    "#Create and Display linear regression best-fit for data\n",
    "regress_values = x_values * slope + intercept\n",
    "plt.plot(x_values,regress_values, color='blue')\n",
    "\n",
    "#Display Plot\n",
    "plt.show()\n",
    "\n",
    "#Calculate correlation coefficient (not required, but wanted an indicator of fit)\n",
    "correlation = st.pearsonr(x_values,y_values)\n",
    "\n",
    "#Display Pearson correlation coefficient\n",
    "print(f\"The correlation coefficient between Northern Hemisphere Latitude and Cloudiness is {round(correlation[0],2)}\")"
   ]
  },
  {
   "cell_type": "markdown",
   "metadata": {},
   "source": [
    "####  Southern Hemisphere - Cloudiness (%) vs. Latitude Linear Regression"
   ]
  },
  {
   "cell_type": "code",
   "execution_count": 31,
   "metadata": {},
   "outputs": [
    {
     "data": {
      "image/png": "[encoded data removed]",
      "text/plain": [
       "<Figure size 432x288 with 1 Axes>"
      ]
     },
     "metadata": {
      "needs_background": "light"
     },
     "output_type": "display_data"
    },
    {
     "name": "stdout",
     "output_type": "stream",
     "text": [
      "The correlation coefficient between Southern Hemisphere Latitude and Cloudiness is 0.03\n"
     ]
    }
   ],
   "source": [
    "#Assign Axes\n",
    "x_values = south['Latitude']\n",
    "y_values = south['Cloudiness (%)']\n",
    "\n",
    "plt.scatter(x_values, y_values)\n",
    "#Title Chart\n",
    "plt.title('Southern Hemisphere \\n City Latitude vs. Cloudiness (%)')\n",
    "\n",
    "#Title X-Axis\n",
    "plt.xlabel('Latitude')\n",
    "\n",
    "#Title Y-Axis\n",
    "plt.ylabel('Cloudiness (%)')\n",
    "\n",
    "#Find Linear Regression Values\n",
    "(slope, intercept, rvalue, pvalue, stderr) = linregress(x_values, y_values)\n",
    "\n",
    "#Create Equation for the Line\n",
    "line_eq = \"y = \" + str(round(slope,2)) + \"x + \" + str(round(intercept,2))\n",
    "\n",
    "#Annotate line equation on scatter plit\n",
    "plt.annotate(line_eq,(-55, 60),color=\"blue\", fontsize = 12, backgroundcolor=\"w\")\n",
    "\n",
    "#Create and Display linear regression best-fit for data\n",
    "regress_values = x_values * slope + intercept\n",
    "plt.plot(x_values,regress_values, color='blue')\n",
    "\n",
    "#Display Plot\n",
    "plt.show()\n",
    "\n",
    "#Calculate correlation coefficient (not required, but wanted an indicator of fit)\n",
    "correlation = st.pearsonr(x_values,y_values)\n",
    "\n",
    "#Display Pearson correlation coefficient\n",
    "print(f\"The correlation coefficient between Southern Hemisphere Latitude and Cloudiness is {round(correlation[0],2)}\")"
   ]
  },
  {
   "cell_type": "markdown",
   "metadata": {},
   "source": [
    "####  Northern Hemisphere - Wind Speed (mph) vs. Latitude Linear Regression"
   ]
  },
  {
   "cell_type": "code",
   "execution_count": 32,
   "metadata": {},
   "outputs": [
    {
     "data": {
      "image/png": "[encoded data removed]",
      "text/plain": [
       "<Figure size 432x288 with 1 Axes>"
      ]
     },
     "metadata": {
      "needs_background": "light"
     },
     "output_type": "display_data"
    },
    {
     "name": "stdout",
     "output_type": "stream",
     "text": [
      "The correlation coefficient between Northern Hemisphere Latitude and Wind Speed is 0.05\n"
     ]
    }
   ],
   "source": [
    "#Assign Axes\n",
    "x_values = north['Latitude']\n",
    "y_values = north['Wind Speed (mph)']\n",
    "\n",
    "plt.scatter(x_values, y_values)\n",
    "#Title Chart\n",
    "plt.title('Northern Hemisphere \\n City Latitude vs. Wind Speed (mph)')\n",
    "\n",
    "#Title X-Axis\n",
    "plt.xlabel('Latitude')\n",
    "\n",
    "#Title Y-Axis\n",
    "plt.ylabel('Wind Speed (mph)')\n",
    "\n",
    "#Find Linear Regression Values\n",
    "(slope, intercept, rvalue, pvalue, stderr) = linregress(x_values, y_values)\n",
    "\n",
    "#Create Equation for the Line\n",
    "line_eq = \"y = \" + str(round(slope,2)) + \"x + \" + str(round(intercept,2))\n",
    "\n",
    "#Annotate line equation on scatter plit\n",
    "plt.annotate(line_eq,(20, 27),color=\"blue\", fontsize = 16, backgroundcolor=\"w\")\n",
    "\n",
    "#Create and Display linear regression best-fit for data\n",
    "regress_values = x_values * slope + intercept\n",
    "plt.plot(x_values,regress_values, color='blue')\n",
    "\n",
    "#Display Plot\n",
    "plt.show()\n",
    "\n",
    "#Calculate correlation coefficient (not required, but wanted an indicator of fit)\n",
    "correlation = st.pearsonr(x_values,y_values)\n",
    "\n",
    "#Display Pearson correlation coefficient\n",
    "print(f\"The correlation coefficient between Northern Hemisphere Latitude and Wind Speed is {round(correlation[0],2)}\")"
   ]
  },
  {
   "cell_type": "markdown",
   "metadata": {},
   "source": [
    "####  Southern Hemisphere - Wind Speed (mph) vs. Latitude Linear Regression"
   ]
  },
  {
   "cell_type": "code",
   "execution_count": 35,
   "metadata": {},
   "outputs": [
    {
     "data": {
      "image/png": "[encoded data removed]",
      "text/plain": [
       "<Figure size 432x288 with 1 Axes>"
      ]
     },
     "metadata": {
      "needs_background": "light"
     },
     "output_type": "display_data"
    },
    {
     "name": "stdout",
     "output_type": "stream",
     "text": [
      "The correlation coefficient between Southern Hemisphere Latitude and Wind Speed is -0.11\n"
     ]
    }
   ],
   "source": [
    "#Assign Axes\n",
    "x_values = south['Latitude']\n",
    "y_values = south['Wind Speed (mph)']\n",
    "\n",
    "plt.scatter(x_values, y_values)\n",
    "#Title Chart\n",
    "plt.title('Southern Hemisphere \\n City Latitude vs. Wind Speed (mph)')\n",
    "\n",
    "#Title X-Axis\n",
    "plt.xlabel('Latitude')\n",
    "\n",
    "#Title Y-Axis\n",
    "plt.ylabel('Wind Speed (mph)')\n",
    "\n",
    "#Find Linear Regression Values\n",
    "(slope, intercept, rvalue, pvalue, stderr) = linregress(x_values, y_values)\n",
    "\n",
    "#Create Equation for the Line\n",
    "line_eq = \"y = \" + str(round(slope,2)) + \"x + \" + str(round(intercept,2))\n",
    "\n",
    "#Annotate line equation on scatter plit\n",
    "plt.annotate(line_eq,(-55, 18),color=\"blue\", fontsize = 16, backgroundcolor=\"w\")\n",
    "\n",
    "#Create and Display linear regression best-fit for data\n",
    "regress_values = x_values * slope + intercept\n",
    "plt.plot(x_values,regress_values, color='blue')\n",
    "\n",
    "#Display Plot\n",
    "plt.show()\n",
    "\n",
    "#Calculate correlation coefficient (not required, but wanted an indicator of fit)\n",
    "correlation = st.pearsonr(x_values,y_values)\n",
    "\n",
    "#Display Pearson correlation coefficient\n",
    "print(f\"The correlation coefficient between Southern Hemisphere Latitude and Wind Speed is {round(correlation[0],2)}\")"
   ]
  }
 ],
 "metadata": {
  "anaconda-cloud": {},
  "kernel_info": {
   "name": "python3"
  },
  "kernelspec": {
   "display_name": "Python [conda env:PythonData] *",
   "language": "python",
   "name": "conda-env-PythonData-py"
  },
  "language_info": {
   "codemirror_mode": {
    "name": "ipython",
    "version": 3
   },
   "file_extension": ".py",
   "mimetype": "text/x-python",
   "name": "python",
   "nbconvert_exporter": "python",
   "pygments_lexer": "ipython3",
   "version": "3.8.3"
  },
  "latex_envs": {
   "LaTeX_envs_menu_present": true,
   "autoclose": false,
   "autocomplete": true,
   "bibliofile": "biblio.bib",
   "cite_by": "apalike",
   "current_citInitial": 1,
   "eqLabelWithNumbers": true,
   "eqNumInitial": 1,
   "hotkeys": {
    "equation": "Ctrl-E",
    "itemize": "Ctrl-I"
   },
   "labels_anchors": false,
   "latex_user_defs": false,
   "report_style_numbering": false,
   "user_envs_cfg": false
  },
  "nteract": {
   "version": "0.12.3"
  }
 },
 "nbformat": 4,
 "nbformat_minor": 2
}
