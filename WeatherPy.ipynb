{
 "cells": [
  {
   "cell_type": "markdown",
   "metadata": {},
   "source": [
    "# WeatherPy\n",
    "----\n",
    "\n",
    "#### Note\n",
    "* Instructions have been included for each segment. You do not have to follow them exactly, but they are included to help you think through the steps."
   ]
  },
  {
   "cell_type": "code",
   "execution_count": 50,
   "metadata": {
    "scrolled": true
   },
   "outputs": [],
   "source": [
    "# Dependencies and Setup\n",
    "import matplotlib.pyplot as plt\n",
    "import pandas as pd\n",
    "import numpy as np\n",
    "import requests\n",
    "import time\n",
    "from scipy.stats import linregress\n",
    "from pprint import pprint\n",
    "from datetime import datetime\n",
    "import scipy.stats as st\n",
    "\n",
    "# Import API key\n",
    "from api_keys import weather_api_key as w_api\n",
    "\n",
    "# Incorporated citipy to determine city based on latitude and longitude\n",
    "from citipy import citipy\n",
    "\n",
    "# Output File (CSV)\n",
    "output_data_file = 'output_data/cities.csv'\n",
    "\n",
    "# Range of latitudes and longitudes\n",
    "lat_range = (-90, 90)\n",
    "lng_range = (-180, 180)"
   ]
  },
  {
   "cell_type": "markdown",
   "metadata": {},
   "source": [
    "## Generate Cities List"
   ]
  },
  {
   "cell_type": "code",
   "execution_count": 51,
   "metadata": {},
   "outputs": [
    {
     "data": {
      "text/plain": [
       "598"
      ]
     },
     "execution_count": 51,
     "metadata": {},
     "output_type": "execute_result"
    }
   ],
   "source": [
    "# List for holding lat_lngs and cities\n",
    "lat_lngs = []\n",
    "cities = []\n",
    "\n",
    "# Create a set of random lat and lng combinations\n",
    "lats = np.random.uniform(lat_range[0], lat_range[1], size=1500)\n",
    "lngs = np.random.uniform(lng_range[0], lng_range[1], size=1500)\n",
    "lat_lngs = zip(lats, lngs)\n",
    "\n",
    "# Identify nearest city for each lat, lng combination\n",
    "for lat_lng in lat_lngs:\n",
    "    city = citipy.nearest_city(lat_lng[0], lat_lng[1]).city_name\n",
    "    \n",
    "    # If the city is unique, then add it to a our cities list\n",
    "    if city not in cities:\n",
    "        cities.append(city)\n",
    "\n",
    "# Print the city count to confirm sufficient count\n",
    "len(cities)"
   ]
  },
  {
   "cell_type": "markdown",
   "metadata": {},
   "source": [
    "### Perform API Calls\n",
    "* Perform a weather check on each city using a series of successive API calls.\n",
    "* Include a print log of each city as it'sbeing processed (with the city number and city name).\n"
   ]
  },
  {
   "cell_type": "code",
   "execution_count": 52,
   "metadata": {},
   "outputs": [
    {
     "name": "stdout",
     "output_type": "stream",
     "text": [
      "Beginning Data Retrieval\n",
      "-----------------------------------\n",
      "Processing Record 1. | Busselton\n",
      "Processing Record 2. | Hobart\n",
      "Processing Record 3. | Makakilo City\n",
      "Processing Record 4. | Tekeli\n",
      "Record: 5 / City: Saleaula not found. Proceeding to next record. \n",
      "Record: 6 / City: Illoqqortoormiut not found. Proceeding to next record. \n",
      "Processing Record 7. | Hithadhoo\n",
      "Record: 8 / City: Mys Shmidta not found. Proceeding to next record. \n",
      "Processing Record 9. | Labuhan\n",
      "Processing Record 10. | Andijon\n",
      "Record: 11 / City: Taolanaro not found. Proceeding to next record. \n",
      "Processing Record 12. | Albany\n",
      "Processing Record 13. | Naze\n",
      "Processing Record 14. | Dhemaji\n",
      "Processing Record 15. | Atuona\n",
      "Processing Record 16. | Srivardhan\n",
      "Processing Record 17. | Luganville\n",
      "Processing Record 18. | Mataura\n",
      "Processing Record 19. | Beloha\n",
      "Processing Record 20. | Narsaq\n",
      "Processing Record 21. | Dubrovnik\n",
      "Processing Record 22. | San Cristobal\n",
      "Processing Record 23. | Port Harcourt\n",
      "Processing Record 24. | Ancud\n",
      "Processing Record 25. | Jamestown\n",
      "Record: 26 / City: Samusu not found. Proceeding to next record. \n",
      "Processing Record 27. | Punta Arenas\n",
      "Processing Record 28. | Minot\n",
      "Record: 29 / City: Barentsburg not found. Proceeding to next record. \n",
      "Processing Record 30. | Hilo\n",
      "Processing Record 31. | Manicore\n",
      "Processing Record 32. | Matongo\n",
      "Processing Record 33. | Bredasdorp\n",
      "Processing Record 34. | Rikitea\n",
      "Processing Record 35. | East London\n",
      "Processing Record 36. | Etropole\n",
      "Processing Record 37. | Pacific Grove\n",
      "Processing Record 38. | Saskylakh\n",
      "Processing Record 39. | Murray Bridge\n",
      "Processing Record 40. | Urdoma\n",
      "Record: 41 / City: Palabuhanratu not found. Proceeding to next record. \n",
      "Processing Record 42. | Tasiilaq\n",
      "Processing Record 43. | Makat\n",
      "Processing Record 44. | La Ronge\n",
      "Processing Record 45. | Mecca\n",
      "Processing Record 46. | Meridian\n",
      "Processing Record 47. | Hermanus\n",
      "Processing Record 48. | Thompson\n",
      "Processing Record 49. | Cape Town\n",
      "Processing Record 50. | Ulladulla\n",
      "Processing Record 51. | Morehead\n",
      "Processing Record 52. | Georgetown\n",
      "Processing Record 53. | Fort Nelson\n",
      "Processing Record 54. | Constitucion\n",
      "Processing Record 55. | Kapaa\n",
      "Processing Record 56. | Manuk Mangkaw\n",
      "Processing Record 57. | Kruisfontein\n",
      "Processing Record 58. | Faanui\n",
      "Processing Record 59. | Lebu\n",
      "Processing Record 60. | Saint George\n",
      "Processing Record 61. | Chokurdakh\n",
      "Processing Record 62. | Cabo San Lucas\n",
      "Processing Record 63. | Ribeira Grande\n",
      "Processing Record 64. | Avarua\n",
      "Processing Record 65. | Guiratinga\n",
      "Processing Record 66. | San Pedro\n",
      "Record: 67 / City: Attawapiskat not found. Proceeding to next record. \n",
      "Processing Record 68. | Ushuaia\n",
      "Record: 69 / City: Mocambique not found. Proceeding to next record. \n",
      "Processing Record 70. | Avera\n",
      "Processing Record 71. | Kjollefjord\n",
      "Processing Record 72. | Svobodnyy\n",
      "Processing Record 73. | San Patricio\n",
      "Processing Record 74. | Grimshaw\n",
      "Processing Record 75. | Novosheshminsk\n",
      "Processing Record 76. | Port Alfred\n",
      "Processing Record 77. | Seoul\n",
      "Processing Record 78. | Port-Cartier\n",
      "Processing Record 79. | Torrevieja\n",
      "Processing Record 80. | Luanda\n",
      "Processing Record 81. | Kudahuvadhoo\n",
      "Processing Record 82. | Sibolga\n",
      "Processing Record 83. | Yellowknife\n",
      "Processing Record 84. | Butaritari\n",
      "Processing Record 85. | Agucadoura\n",
      "Record: 86 / City: Nizhneyansk not found. Proceeding to next record. \n",
      "Processing Record 87. | Vostochnyy\n",
      "Processing Record 88. | Kenitra\n",
      "Processing Record 89. | Sao Filipe\n",
      "Processing Record 90. | Mount Gambier\n",
      "Processing Record 91. | Port-Gentil\n",
      "Processing Record 92. | Bluff\n",
      "Processing Record 93. | Porto Novo\n",
      "Processing Record 94. | Carnarvon\n",
      "Record: 95 / City: Galgani not found. Proceeding to next record. \n",
      "Processing Record 96. | Aklavik\n",
      "Processing Record 97. | Vaini\n",
      "Processing Record 98. | New Norfolk\n",
      "Processing Record 99. | Rongcheng\n",
      "Processing Record 100. | Saint-Philippe\n",
      "Processing Record 101. | Cosio\n",
      "Processing Record 102. | Vestmannaeyjar\n",
      "Processing Record 103. | Wesley\n",
      "Processing Record 104. | Mar Del Plata\n",
      "Processing Record 105. | Charyshskoye\n",
      "Record: 106 / City: Rolim De Moura not found. Proceeding to next record. \n",
      "Processing Record 107. | Souillac\n",
      "Processing Record 108. | Luderitz\n",
      "Processing Record 109. | Sandakan\n",
      "Processing Record 110. | Swan Hill\n",
      "Processing Record 111. | Cabedelo\n",
      "Processing Record 112. | Tuktoyaktuk\n",
      "Processing Record 113. | Los Llanos De Aridane\n",
      "Processing Record 114. | Chulumani\n",
      "Processing Record 115. | Jalu\n",
      "Processing Record 116. | Barrow\n",
      "Processing Record 117. | Nikolskoye\n",
      "Record: 118 / City: Grand River South East not found. Proceeding to next record. \n",
      "Processing Record 119. | Gasa\n",
      "Processing Record 120. | Ondangwa\n",
      "Processing Record 121. | Nantucket\n",
      "Processing Record 122. | Clyde River\n",
      "Processing Record 123. | Bartlesville\n",
      "Processing Record 124. | Iwanai\n",
      "Processing Record 125. | Griffin\n",
      "Processing Record 126. | Asau\n",
      "Processing Record 127. | Talnakh\n",
      "Processing Record 128. | Muisne\n",
      "Processing Record 129. | Lagoa\n",
      "Processing Record 130. | Tiksi\n",
      "Processing Record 131. | Xuanhua\n",
      "Processing Record 132. | Zhigansk\n",
      "Processing Record 133. | Qaanaaq\n",
      "Record: 134 / City: Amderma not found. Proceeding to next record. \n",
      "Processing Record 135. | Vernon\n",
      "Processing Record 136. | Khatanga\n",
      "Processing Record 137. | Boyolangu\n",
      "Processing Record 138. | Hamilton\n",
      "Processing Record 139. | Sorland\n",
      "Processing Record 140. | Agnibilekrou\n",
      "Processing Record 141. | Thunder Bay\n",
      "Processing Record 142. | Longyearbyen\n",
      "Processing Record 143. | Aswan\n",
      "Processing Record 144. | Benguela\n",
      "Processing Record 145. | Bengkulu\n",
      "Processing Record 146. | Energetik\n",
      "Processing Record 147. | Dzhebariki-Khaya\n",
      "Processing Record 148. | Aksay\n",
      "Processing Record 149. | Atagay\n",
      "Processing Record 150. | Tabou\n",
      "Processing Record 151. | Morant Bay\n",
      "Processing Record 152. | Codrington\n",
      "Processing Record 153. | Port Hueneme\n",
      "Processing Record 154. | Katsuura\n",
      "Processing Record 155. | Chuy\n",
      "Processing Record 156. | Laguna\n",
      "Processing Record 157. | Caravelas\n",
      "Processing Record 158. | Odda\n",
      "Processing Record 159. | Fortuna\n",
      "Processing Record 160. | Rosignano Marittimo\n",
      "Processing Record 161. | Jumla\n",
      "Processing Record 162. | Kemi\n",
      "Processing Record 163. | Manono\n",
      "Processing Record 164. | Winnemucca\n",
      "Processing Record 165. | Sitka\n",
      "Record: 166 / City: Umzimvubu not found. Proceeding to next record. \n",
      "Record: 167 / City: Jaramana not found. Proceeding to next record. \n",
      "Processing Record 168. | Bambous Virieux\n",
      "Record: 169 / City: Rungata not found. Proceeding to next record. \n",
      "Processing Record 170. | Ljungby\n",
      "Processing Record 171. | Pevek\n",
      "Processing Record 172. | Upernavik\n",
      "Record: 173 / City: Sentyabrskiy not found. Proceeding to next record. \n",
      "Processing Record 174. | Ilulissat\n",
      "Processing Record 175. | La Asuncion\n",
      "Processing Record 176. | Hasaki\n",
      "Processing Record 177. | Svetlogorsk\n",
      "Record: 178 / City: Bolungarvik not found. Proceeding to next record. \n",
      "Processing Record 179. | Bon Accord\n",
      "Processing Record 180. | Rundu\n",
      "Processing Record 181. | Krivosheino\n",
      "Processing Record 182. | Namibe\n",
      "Record: 183 / City: Vaitupu not found. Proceeding to next record. \n",
      "Processing Record 184. | Aligudarz\n",
      "Processing Record 185. | Biratnagar\n",
      "Processing Record 186. | Oistins\n",
      "Processing Record 187. | Aykhal\n",
      "Processing Record 188. | Paamiut\n",
      "Processing Record 189. | Ler\n",
      "Processing Record 190. | Westport\n",
      "Processing Record 191. | Egvekinot\n",
      "Processing Record 192. | Kununurra\n",
      "Processing Record 193. | Denpasar\n",
      "Processing Record 194. | Kang\n",
      "Processing Record 195. | Scarborough\n",
      "Processing Record 196. | Cozumel\n",
      "Processing Record 197. | Cherskiy\n",
      "Processing Record 198. | Puerto Madryn\n",
      "Processing Record 199. | Port Elizabeth\n",
      "Record: 200 / City: Halalo not found. Proceeding to next record. \n",
      "Processing Record 201. | Adil-Yangiyurt\n",
      "Record: 202 / City: Dekoa not found. Proceeding to next record. \n",
      "Processing Record 203. | Coari\n",
      "Processing Record 204. | Manggar\n",
      "Processing Record 205. | Qandala\n",
      "Processing Record 206. | Coihaique\n",
      "Processing Record 207. | Esperance\n",
      "Processing Record 208. | Black River\n",
      "Processing Record 209. | Ayan\n",
      "Processing Record 210. | Yokadouma\n",
      "Processing Record 211. | Lima\n",
      "Processing Record 212. | Yar-Sale\n",
      "Processing Record 213. | Bethel\n",
      "Processing Record 214. | Qorveh\n",
      "Processing Record 215. | Puerto Ayora\n",
      "Processing Record 216. | Lodja\n",
      "Processing Record 217. | Fairbanks\n"
     ]
    },
    {
     "name": "stdout",
     "output_type": "stream",
     "text": [
      "Processing Record 218. | Komsomolskiy\n",
      "Processing Record 219. | Bonavista\n",
      "Processing Record 220. | Anloga\n",
      "Processing Record 221. | Provideniya\n",
      "Processing Record 222. | Klaksvik\n",
      "Processing Record 223. | Koidu\n",
      "Processing Record 224. | Mlandizi\n",
      "Processing Record 225. | Berlevag\n",
      "Processing Record 226. | Hajiganj\n",
      "Processing Record 227. | Phuket\n",
      "Processing Record 228. | Ponta Do Sol\n",
      "Processing Record 229. | Port Augusta\n",
      "Processing Record 230. | Mingshui\n",
      "Processing Record 231. | Usinsk\n",
      "Processing Record 232. | Alpignano\n",
      "Processing Record 233. | Castro\n",
      "Processing Record 234. | Mangrol\n",
      "Processing Record 235. | Buraydah\n",
      "Processing Record 236. | Vaitape\n",
      "Processing Record 237. | Santa Rosa\n",
      "Processing Record 238. | Casma\n",
      "Processing Record 239. | Airai\n",
      "Processing Record 240. | Shimoda\n",
      "Processing Record 241. | Kamyshin\n",
      "Processing Record 242. | Darab\n",
      "Processing Record 243. | Faya\n",
      "Processing Record 244. | Arraial Do Cabo\n",
      "Processing Record 245. | Dudinka\n",
      "Processing Record 246. | Koungou\n",
      "Processing Record 247. | Vardo\n",
      "Processing Record 248. | Salalah\n",
      "Record: 249 / City: Safwah not found. Proceeding to next record. \n",
      "Processing Record 250. | Sur\n",
      "Record: 251 / City: Ambodifototra not found. Proceeding to next record. \n",
      "Processing Record 252. | Morondava\n",
      "Processing Record 253. | Kulhudhuffushi\n",
      "Processing Record 254. | Celestun\n",
      "Record: 255 / City: Karamea not found. Proceeding to next record. \n",
      "Processing Record 256. | Taoudenni\n",
      "Processing Record 257. | Liepaja\n",
      "Processing Record 258. | Dunedin\n",
      "Processing Record 259. | Opuwo\n",
      "Processing Record 260. | Zemio\n",
      "Processing Record 261. | Zhangjiakou\n",
      "Processing Record 262. | Kodiak\n",
      "Processing Record 263. | Nouadhibou\n",
      "Processing Record 264. | Thaba-Tseka\n",
      "Processing Record 265. | Port Lincoln\n",
      "Processing Record 266. | Hambantota\n",
      "Processing Record 267. | Lamesa\n",
      "Record: 268 / City: Tabiauea not found. Proceeding to next record. \n",
      "Processing Record 269. | Ahipara\n",
      "Processing Record 270. | Impfondo\n",
      "Processing Record 271. | Kahului\n",
      "Processing Record 272. | Kavieng\n",
      "Processing Record 273. | Jizan\n",
      "Processing Record 274. | Pisco\n",
      "Record: 275 / City: Tsihombe not found. Proceeding to next record. \n",
      "Processing Record 276. | Mataram\n",
      "Processing Record 277. | Campbell River\n",
      "Processing Record 278. | Zyryanka\n",
      "Processing Record 279. | Nurota\n",
      "Processing Record 280. | Lazaro Cardenas\n",
      "Processing Record 281. | Puerto Escondido\n",
      "Processing Record 282. | Tessalit\n",
      "Processing Record 283. | Lavrentiya\n",
      "Processing Record 284. | Mahebourg\n",
      "Processing Record 285. | Kaitangata\n",
      "Processing Record 286. | Itaituba\n",
      "Processing Record 287. | Norman Wells\n",
      "Processing Record 288. | Ambon\n",
      "Processing Record 289. | Bafoulabe\n",
      "Processing Record 290. | Dikson\n",
      "Processing Record 291. | Iqaluit\n",
      "Record: 292 / City: Umm Durman not found. Proceeding to next record. \n",
      "Processing Record 293. | Borogontsy\n",
      "Processing Record 294. | Riyadh\n",
      "Processing Record 295. | Tautira\n",
      "Processing Record 296. | Nuuk\n",
      "Processing Record 297. | Paragominas\n",
      "Processing Record 298. | Leningradskiy\n",
      "Processing Record 299. | Sereflikochisar\n",
      "Processing Record 300. | Lagos\n",
      "Processing Record 301. | Te Anau\n",
      "Processing Record 302. | Carros\n",
      "Processing Record 303. | Chilliwack\n",
      "Processing Record 304. | Nome\n",
      "Processing Record 305. | Vieux-Habitants\n",
      "Processing Record 306. | Cafelandia\n",
      "Processing Record 307. | Huanren\n",
      "Processing Record 308. | San Rafael\n",
      "Processing Record 309. | Severo-Kurilsk\n",
      "Processing Record 310. | Yulara\n",
      "Processing Record 311. | Puerto Leguizamo\n",
      "Processing Record 312. | Itapeva\n",
      "Processing Record 313. | Santo Anastacio\n",
      "Processing Record 314. | Goderich\n",
      "Processing Record 315. | Chernyshevskiy\n",
      "Processing Record 316. | Alice Springs\n",
      "Processing Record 317. | Moosomin\n",
      "Processing Record 318. | Kathu\n",
      "Processing Record 319. | Asyut\n",
      "Processing Record 320. | Taixing\n",
      "Processing Record 321. | Jiupu\n",
      "Processing Record 322. | Baker City\n",
      "Record: 323 / City: Banmo not found. Proceeding to next record. \n",
      "Processing Record 324. | Sistranda\n",
      "Processing Record 325. | Juneau\n",
      "Processing Record 326. | Arman\n",
      "Processing Record 327. | Patan\n",
      "Processing Record 328. | Acari\n",
      "Record: 329 / City: Kazalinsk not found. Proceeding to next record. \n",
      "Processing Record 330. | De Aar\n",
      "Processing Record 331. | Filingue\n",
      "Processing Record 332. | Albac\n",
      "Processing Record 333. | Candolim\n",
      "Record: 334 / City: Xiangdong not found. Proceeding to next record. \n",
      "Processing Record 335. | Lom Sak\n",
      "Processing Record 336. | Olafsvik\n",
      "Processing Record 337. | Smirnykh\n",
      "Processing Record 338. | Yuanping\n",
      "Processing Record 339. | Sola\n",
      "Processing Record 340. | Arteaga\n",
      "Processing Record 341. | Tiznit\n",
      "Processing Record 342. | Grand Gaube\n",
      "Processing Record 343. | Januaria\n",
      "Processing Record 344. | Bamnet Narong\n",
      "Processing Record 345. | Mago\n",
      "Record: 346 / City: Karauzyak not found. Proceeding to next record. \n",
      "Processing Record 347. | Lata\n",
      "Processing Record 348. | Cidreira\n",
      "Processing Record 349. | Ekibastuz\n",
      "Processing Record 350. | Atar\n",
      "Processing Record 351. | Nelson Bay\n",
      "Processing Record 352. | Garden City\n",
      "Processing Record 353. | Serenje\n",
      "Processing Record 354. | Ambunti\n",
      "Processing Record 355. | Zambezi\n",
      "Processing Record 356. | Half Moon Bay\n",
      "Processing Record 357. | Lumby\n",
      "Processing Record 358. | Micheweni\n",
      "Processing Record 359. | Magistralnyy\n",
      "Processing Record 360. | Saquena\n",
      "Processing Record 361. | Severodvinsk\n",
      "Processing Record 362. | Dongying\n",
      "Processing Record 363. | Verkh-Chebula\n",
      "Processing Record 364. | Sao Felix Do Xingu\n",
      "Processing Record 365. | Yaan\n",
      "Processing Record 366. | Charlottesville\n",
      "Processing Record 367. | Skjervoy\n",
      "Processing Record 368. | Moura\n",
      "Processing Record 369. | Meckenbeuren\n",
      "Processing Record 370. | Muscatine\n",
      "Processing Record 371. | Ternate\n",
      "Processing Record 372. | Port Hardy\n",
      "Processing Record 373. | Isangel\n",
      "Processing Record 374. | Lasa\n",
      "Processing Record 375. | Victoria Point\n",
      "Processing Record 376. | Palauig\n",
      "Processing Record 377. | Tromso\n",
      "Processing Record 378. | Berdigestyakh\n",
      "Processing Record 379. | Portland\n",
      "Processing Record 380. | Moussoro\n",
      "Processing Record 381. | Dingle\n",
      "Processing Record 382. | Axim\n",
      "Processing Record 383. | Punta Alta\n",
      "Processing Record 384. | Okha\n",
      "Processing Record 385. | Whitehorse\n",
      "Processing Record 386. | Emba\n",
      "Processing Record 387. | Nemuro\n",
      "Processing Record 388. | Vostok\n",
      "Processing Record 389. | The Pas\n",
      "Processing Record 390. | Sjenica\n",
      "Processing Record 391. | Bara\n",
      "Processing Record 392. | Sakakah\n",
      "Processing Record 393. | Middle Island\n",
      "Processing Record 394. | Moerewa\n",
      "Processing Record 395. | Polunochnoye\n",
      "Processing Record 396. | Rawatbhata\n",
      "Processing Record 397. | Ihosy\n",
      "Processing Record 398. | Langsa\n",
      "Processing Record 399. | Nabire\n",
      "Processing Record 400. | Poum\n",
      "Processing Record 401. | Havoysund\n",
      "Processing Record 402. | Tiruppur\n",
      "Processing Record 403. | Buala\n",
      "Processing Record 404. | Acajutla\n",
      "Processing Record 405. | Macas\n",
      "Processing Record 406. | Torbay\n",
      "Processing Record 407. | Tuatapere\n",
      "Processing Record 408. | Port Hawkesbury\n",
      "Processing Record 409. | Letnyaya Stavka\n",
      "Record: 410 / City: Ituni not found. Proceeding to next record. \n",
      "Record: 411 / City: Belushya Guba not found. Proceeding to next record. \n",
      "Processing Record 412. | Sangin\n",
      "Processing Record 413. | Nagar Karnul\n",
      "Processing Record 414. | Kunashak\n",
      "Processing Record 415. | Golaghat\n",
      "Processing Record 416. | Waingapu\n",
      "Processing Record 417. | Tokur\n",
      "Processing Record 418. | Namatanai\n",
      "Processing Record 419. | Rolante\n",
      "Processing Record 420. | Acapulco\n",
      "Processing Record 421. | Aksu\n",
      "Processing Record 422. | Hervey Bay\n",
      "Processing Record 423. | Zhangye\n",
      "Processing Record 424. | Sao Joao Da Barra\n",
      "Processing Record 425. | Bathsheba\n",
      "Processing Record 426. | Saint-Pierre\n",
      "Processing Record 427. | Cheney\n",
      "Processing Record 428. | Waimana\n",
      "Processing Record 429. | Sembe\n",
      "Processing Record 430. | Vao\n",
      "Processing Record 431. | Chatra\n",
      "Processing Record 432. | Archidona\n",
      "Processing Record 433. | Lovozero\n",
      "Processing Record 434. | Adamas\n",
      "Processing Record 435. | Sechura\n",
      "Processing Record 436. | Imeni Poliny Osipenko\n",
      "Processing Record 437. | Kieta\n",
      "Processing Record 438. | Alexander City\n",
      "Processing Record 439. | Walvis Bay\n",
      "Processing Record 440. | Caramay\n",
      "Processing Record 441. | Kangaatsiaq\n",
      "Processing Record 442. | Ugoofaaru\n",
      "Processing Record 443. | Mezen\n",
      "Processing Record 444. | Blama\n",
      "Processing Record 445. | Douentza\n",
      "Processing Record 446. | Palmer\n"
     ]
    },
    {
     "name": "stdout",
     "output_type": "stream",
     "text": [
      "Processing Record 447. | Novorzhev\n",
      "Processing Record 448. | Tungao\n",
      "Processing Record 449. | Vuktyl\n",
      "Processing Record 450. | Cacu\n",
      "Processing Record 451. | Hualmay\n",
      "Processing Record 452. | Kemin\n",
      "Processing Record 453. | Gandajika\n",
      "Processing Record 454. | Mogadishu\n",
      "Processing Record 455. | Luena\n",
      "Processing Record 456. | Quatre Cocos\n",
      "Processing Record 457. | Grindavik\n",
      "Processing Record 458. | Balkanabat\n",
      "Processing Record 459. | Mochalishche\n",
      "Processing Record 460. | Skagen\n",
      "Processing Record 461. | Comodoro Rivadavia\n",
      "Processing Record 462. | Okhotsk\n",
      "Processing Record 463. | Banda Aceh\n",
      "Processing Record 464. | Kuhdasht\n",
      "Processing Record 465. | Price\n",
      "Processing Record 466. | Panama City\n",
      "Processing Record 467. | Makungu\n",
      "Processing Record 468. | Tomatlan\n",
      "Processing Record 469. | High Level\n",
      "Processing Record 470. | Cockburn Town\n",
      "Processing Record 471. | Kassala\n",
      "Processing Record 472. | Iranshahr\n",
      "Record: 473 / City: Louisbourg not found. Proceeding to next record. \n",
      "Processing Record 474. | Khani\n",
      "Record: 475 / City: Sumbawa not found. Proceeding to next record. \n",
      "Processing Record 476. | Japura\n",
      "Processing Record 477. | Luangwa\n",
      "Processing Record 478. | Libertador General San Martin\n",
      "Processing Record 479. | Pierre\n",
      "Record: 480 / City: Khonuu not found. Proceeding to next record. \n",
      "Processing Record 481. | Peruibe\n",
      "Processing Record 482. | Khuzhir\n",
      "Processing Record 483. | Bandarbeyla\n",
      "Processing Record 484. | Malakal\n",
      "Record: 485 / City: Borama not found. Proceeding to next record. \n",
      "Processing Record 486. | Matagami\n",
      "Record: 487 / City: Gangotri not found. Proceeding to next record. \n",
      "Record: 488 / City: Yanan not found. Proceeding to next record. \n",
      "Processing Record 489. | Lompoc\n",
      "Processing Record 490. | Amarante Do Maranhao\n",
      "Processing Record 491. | Maceio\n",
      "Processing Record 492. | Udachnyy\n",
      "Processing Record 493. | Guerrero Negro\n",
      "Processing Record 494. | Nyurba\n",
      "Processing Record 495. | Luwuk\n",
      "Processing Record 496. | Hofn\n",
      "Processing Record 497. | Belmonte\n",
      "Processing Record 498. | Illora\n",
      "Processing Record 499. | Haines Junction\n",
      "Processing Record 500. | Bolshaya Sosnova\n",
      "Processing Record 501. | Gra Liyia\n",
      "Processing Record 502. | Beringovskiy\n",
      "Record: 503 / City: Warqla not found. Proceeding to next record. \n",
      "Processing Record 504. | Emerald\n",
      "Processing Record 505. | Baoning\n",
      "Processing Record 506. | Geraldton\n",
      "Processing Record 507. | Petropavl\n",
      "Record: 508 / City: Tumannyy not found. Proceeding to next record. \n",
      "Processing Record 509. | Sobolevo\n",
      "Processing Record 510. | Krasnovishersk\n",
      "Processing Record 511. | Craciunesti\n",
      "Processing Record 512. | Lianran\n",
      "Processing Record 513. | East Moline\n",
      "Processing Record 514. | Great Yarmouth\n",
      "Processing Record 515. | Masuda\n",
      "Processing Record 516. | Bulgan\n",
      "Processing Record 517. | Yatou\n",
      "Processing Record 518. | Guadalupe\n",
      "Processing Record 519. | Harper\n",
      "Record: 520 / City: Paradwip not found. Proceeding to next record. \n",
      "Processing Record 521. | Pallapatti\n",
      "Processing Record 522. | Meulaboh\n",
      "Processing Record 523. | Huilong\n",
      "Processing Record 524. | Siklos\n",
      "Processing Record 525. | Kuah\n",
      "Processing Record 526. | Cascais\n",
      "Processing Record 527. | Kota Belud\n",
      "Processing Record 528. | Beyneu\n",
      "Processing Record 529. | Young\n",
      "Processing Record 530. | Grand-Santi\n",
      "Processing Record 531. | Leon\n",
      "Processing Record 532. | Darjiling\n",
      "Processing Record 533. | Vila Franca Do Campo\n",
      "Processing Record 534. | San Ramon\n",
      "Processing Record 535. | Verkhnevilyuysk\n",
      "Processing Record 536. | Sao Domingos\n",
      "Processing Record 537. | Santa Cruz\n",
      "Processing Record 538. | Tyrma\n",
      "Processing Record 539. | Tura\n",
      "Processing Record 540. | Northam\n",
      "Record: 541 / City: Karamay not found. Proceeding to next record. \n",
      "Processing Record 542. | Dauphin\n",
      "Processing Record 543. | Saint-Francois\n",
      "Processing Record 544. | Lashio\n",
      "Processing Record 545. | Puerto Del Rosario\n",
      "Processing Record 546. | Akersberga\n",
      "Processing Record 547. | High Prairie\n",
      "Processing Record 548. | Flinders\n",
      "Processing Record 549. | Sayyan\n",
      "Record: 550 / City: Urdzhar not found. Proceeding to next record. \n",
      "Processing Record 551. | Krasnoarmeysk\n",
      "Processing Record 552. | Tual\n",
      "Processing Record 553. | Swellendam\n",
      "Processing Record 554. | Qaqortoq\n",
      "Processing Record 555. | Rio Grande\n",
      "Processing Record 556. | Katete\n",
      "Processing Record 557. | Wamba\n",
      "Processing Record 558. | Wahpeton\n",
      "Processing Record 559. | Belaya Gora\n",
      "Record: 560 / City: Maloshuyka not found. Proceeding to next record. \n",
      "Record: 561 / City: Tabukiniberu not found. Proceeding to next record. \n",
      "Processing Record 562. | Ostrovnoy\n",
      "Processing Record 563. | North Bend\n",
      "Processing Record 564. | Pochutla\n",
      "Processing Record 565. | Manokwari\n",
      "Processing Record 566. | Barcelos\n",
      "Processing Record 567. | Maria Aurora\n",
      "Processing Record 568. | Garowe\n",
      "Processing Record 569. | Khilok\n",
      "Processing Record 570. | Dingzhou\n",
      "Processing Record 571. | Thinadhoo\n",
      "Processing Record 572. | Ambilobe\n",
      "Processing Record 573. | Jiwani\n",
      "Processing Record 574. | Champerico\n",
      "Processing Record 575. | Voiron\n",
      "Processing Record 576. | Kismayo\n",
      "Processing Record 577. | Quang Ngai\n",
      "Processing Record 578. | Kinshasa\n",
      "Processing Record 579. | Gubkinskiy\n",
      "Record: 580 / City: Tasbuget not found. Proceeding to next record. \n",
      "Record: 581 / City: Karkaralinsk not found. Proceeding to next record. \n",
      "Processing Record 582. | Imperia\n",
      "Processing Record 583. | Mount Isa\n",
      "Processing Record 584. | Sucua\n",
      "Processing Record 585. | Maniitsoq\n",
      "Record: 586 / City: Maykain not found. Proceeding to next record. \n",
      "Processing Record 587. | Mandera\n",
      "Processing Record 588. | Nioro\n",
      "Processing Record 589. | Dobris\n",
      "Processing Record 590. | Bayshore Gardens\n",
      "Processing Record 591. | Dakar\n",
      "Processing Record 592. | San Jorge\n",
      "Processing Record 593. | Alofi\n",
      "Record: 594 / City: Solovetskiy not found. Proceeding to next record. \n",
      "Processing Record 595. | Cururupu\n",
      "Processing Record 596. | Ryotsu\n",
      "Processing Record 597. | Christchurch\n",
      "Processing Record 598. | Bom Jesus\n",
      "-----------------------------------\n",
      "Data Retrieval Complete\n",
      "-----------------------------------\n"
     ]
    }
   ],
   "source": [
    "#Inisialize new lists for all information required in the DataFrame\n",
    "found_city = []\n",
    "latitude = []\n",
    "longitude = []\n",
    "max_temp = []\n",
    "humidity = []\n",
    "cloudiness = []\n",
    "wind_speed = []\n",
    "country = []\n",
    "date = []\n",
    "record = 0\n",
    "\n",
    "print('Beginning Data Retrieval')\n",
    "print('-----------------------------------')\n",
    "\n",
    "for city in cities:\n",
    "    \n",
    "    #Specify base URL and the desired units\n",
    "    url = \"http://api.openweathermap.org/data/2.5/weather?\"\n",
    "    units = \"imperial\"\n",
    "\n",
    "    # Build partial query URL\n",
    "    query_url = f\"{url}appid={w_api}&units={units}&q=\" + city\n",
    "    \n",
    "    response = requests.get(query_url)\n",
    "    response_json = response.json()\n",
    "    \n",
    "    try:\n",
    "        record = record + 1\n",
    "        found_city.append(response_json['name'])\n",
    "        latitude.append(response_json['coord']['lat'])\n",
    "        longitude.append(response_json['coord']['lon'])\n",
    "        max_temp.append(response_json['main']['temp_max'])\n",
    "        humidity.append(response_json['main']['humidity'])\n",
    "        cloudiness.append(response_json['clouds']['all'])\n",
    "        wind_speed.append(response_json['wind']['speed'])\n",
    "        country.append(response_json['sys']['country'])\n",
    "        date.append(datetime.utcfromtimestamp(response_json['dt']).strftime('%Y-%m-%d %H:%M:%S'))\n",
    "        \n",
    "        print(f\"Processing Record {record}. | {city.title()}\")\n",
    "    except:\n",
    "        print(f\"Record: {record} / City: {city.title()} not found. Proceeding to next record. \")\n",
    "\n",
    "print('-----------------------------------')\n",
    "print('Data Retrieval Complete')\n",
    "print('-----------------------------------')"
   ]
  },
  {
   "cell_type": "markdown",
   "metadata": {},
   "source": [
    "### Convert Raw Data to DataFrame\n",
    "* Export the city data into a .csv.\n",
    "* Display the DataFrame"
   ]
  },
  {
   "cell_type": "code",
   "execution_count": 53,
   "metadata": {},
   "outputs": [],
   "source": [
    "#Assemble DataFrame from newly generated lists\n",
    "city_weather = pd.DataFrame({'City': found_city,\n",
    "                             'Latitude': latitude,\n",
    "                             'Longitude': longitude,\n",
    "                             'Max Temperature (degF)': max_temp,\n",
    "                             'Humidity (%)': humidity,\n",
    "                             'Cloudiness (%)': cloudiness,\n",
    "                             'Wind Speed (mph)': wind_speed,\n",
    "                             'Country': country,\n",
    "                             \"Date/Time (UTC)\": date})\n",
    "\n",
    "#Write the dataframe to a csv file\n",
    "city_weather.to_csv(output_data_file, index = False)"
   ]
  },
  {
   "cell_type": "code",
   "execution_count": 54,
   "metadata": {},
   "outputs": [
    {
     "data": {
      "text/html": [
       "<div>\n",
       "<style scoped>\n",
       "    .dataframe tbody tr th:only-of-type {\n",
       "        vertical-align: middle;\n",
       "    }\n",
       "\n",
       "    .dataframe tbody tr th {\n",
       "        vertical-align: top;\n",
       "    }\n",
       "\n",
       "    .dataframe thead th {\n",
       "        text-align: right;\n",
       "    }\n",
       "</style>\n",
       "<table border=\"1\" class=\"dataframe\">\n",
       "  <thead>\n",
       "    <tr style=\"text-align: right;\">\n",
       "      <th></th>\n",
       "      <th>City</th>\n",
       "      <th>Latitude</th>\n",
       "      <th>Longitude</th>\n",
       "      <th>Max Temperature (degF)</th>\n",
       "      <th>Humidity (%)</th>\n",
       "      <th>Cloudiness (%)</th>\n",
       "      <th>Wind Speed (mph)</th>\n",
       "      <th>Country</th>\n",
       "      <th>Date/Time (UTC)</th>\n",
       "    </tr>\n",
       "  </thead>\n",
       "  <tbody>\n",
       "    <tr>\n",
       "      <th>0</th>\n",
       "      <td>Busselton</td>\n",
       "      <td>-33.65</td>\n",
       "      <td>115.33</td>\n",
       "      <td>57.99</td>\n",
       "      <td>56</td>\n",
       "      <td>32</td>\n",
       "      <td>20.33</td>\n",
       "      <td>AU</td>\n",
       "      <td>2020-06-18 03:19:28</td>\n",
       "    </tr>\n",
       "    <tr>\n",
       "      <th>1</th>\n",
       "      <td>Hobart</td>\n",
       "      <td>-42.88</td>\n",
       "      <td>147.33</td>\n",
       "      <td>46.99</td>\n",
       "      <td>76</td>\n",
       "      <td>42</td>\n",
       "      <td>1.99</td>\n",
       "      <td>AU</td>\n",
       "      <td>2020-06-18 03:23:15</td>\n",
       "    </tr>\n",
       "    <tr>\n",
       "      <th>2</th>\n",
       "      <td>Makakilo City</td>\n",
       "      <td>21.35</td>\n",
       "      <td>-158.09</td>\n",
       "      <td>84.20</td>\n",
       "      <td>51</td>\n",
       "      <td>75</td>\n",
       "      <td>6.93</td>\n",
       "      <td>US</td>\n",
       "      <td>2020-06-18 03:24:24</td>\n",
       "    </tr>\n",
       "    <tr>\n",
       "      <th>3</th>\n",
       "      <td>Tekeli</td>\n",
       "      <td>44.83</td>\n",
       "      <td>78.82</td>\n",
       "      <td>59.85</td>\n",
       "      <td>46</td>\n",
       "      <td>58</td>\n",
       "      <td>7.56</td>\n",
       "      <td>KZ</td>\n",
       "      <td>2020-06-18 03:24:24</td>\n",
       "    </tr>\n",
       "    <tr>\n",
       "      <th>4</th>\n",
       "      <td>Hithadhoo</td>\n",
       "      <td>-0.60</td>\n",
       "      <td>73.08</td>\n",
       "      <td>84.00</td>\n",
       "      <td>75</td>\n",
       "      <td>9</td>\n",
       "      <td>7.25</td>\n",
       "      <td>MV</td>\n",
       "      <td>2020-06-18 03:24:24</td>\n",
       "    </tr>\n",
       "    <tr>\n",
       "      <th>...</th>\n",
       "      <td>...</td>\n",
       "      <td>...</td>\n",
       "      <td>...</td>\n",
       "      <td>...</td>\n",
       "      <td>...</td>\n",
       "      <td>...</td>\n",
       "      <td>...</td>\n",
       "      <td>...</td>\n",
       "      <td>...</td>\n",
       "    </tr>\n",
       "    <tr>\n",
       "      <th>542</th>\n",
       "      <td>Alofi</td>\n",
       "      <td>-19.06</td>\n",
       "      <td>-169.92</td>\n",
       "      <td>77.00</td>\n",
       "      <td>57</td>\n",
       "      <td>40</td>\n",
       "      <td>16.11</td>\n",
       "      <td>NU</td>\n",
       "      <td>2020-06-18 03:25:32</td>\n",
       "    </tr>\n",
       "    <tr>\n",
       "      <th>543</th>\n",
       "      <td>Cururupu</td>\n",
       "      <td>-1.83</td>\n",
       "      <td>-44.87</td>\n",
       "      <td>73.63</td>\n",
       "      <td>95</td>\n",
       "      <td>18</td>\n",
       "      <td>1.63</td>\n",
       "      <td>BR</td>\n",
       "      <td>2020-06-18 03:26:44</td>\n",
       "    </tr>\n",
       "    <tr>\n",
       "      <th>544</th>\n",
       "      <td>Ryōtsu-minato</td>\n",
       "      <td>38.08</td>\n",
       "      <td>138.43</td>\n",
       "      <td>71.60</td>\n",
       "      <td>78</td>\n",
       "      <td>100</td>\n",
       "      <td>8.05</td>\n",
       "      <td>JP</td>\n",
       "      <td>2020-06-18 03:26:44</td>\n",
       "    </tr>\n",
       "    <tr>\n",
       "      <th>545</th>\n",
       "      <td>Christchurch</td>\n",
       "      <td>-43.53</td>\n",
       "      <td>172.63</td>\n",
       "      <td>46.99</td>\n",
       "      <td>100</td>\n",
       "      <td>100</td>\n",
       "      <td>9.17</td>\n",
       "      <td>NZ</td>\n",
       "      <td>2020-06-18 03:23:02</td>\n",
       "    </tr>\n",
       "    <tr>\n",
       "      <th>546</th>\n",
       "      <td>Bom Jesus</td>\n",
       "      <td>-9.07</td>\n",
       "      <td>-44.36</td>\n",
       "      <td>75.65</td>\n",
       "      <td>55</td>\n",
       "      <td>84</td>\n",
       "      <td>4.72</td>\n",
       "      <td>BR</td>\n",
       "      <td>2020-06-18 03:26:45</td>\n",
       "    </tr>\n",
       "  </tbody>\n",
       "</table>\n",
       "<p>547 rows × 9 columns</p>\n",
       "</div>"
      ],
      "text/plain": [
       "              City  Latitude  Longitude  Max Temperature (degF)  Humidity (%)  \\\n",
       "0        Busselton    -33.65     115.33                   57.99            56   \n",
       "1           Hobart    -42.88     147.33                   46.99            76   \n",
       "2    Makakilo City     21.35    -158.09                   84.20            51   \n",
       "3           Tekeli     44.83      78.82                   59.85            46   \n",
       "4        Hithadhoo     -0.60      73.08                   84.00            75   \n",
       "..             ...       ...        ...                     ...           ...   \n",
       "542          Alofi    -19.06    -169.92                   77.00            57   \n",
       "543       Cururupu     -1.83     -44.87                   73.63            95   \n",
       "544  Ryōtsu-minato     38.08     138.43                   71.60            78   \n",
       "545   Christchurch    -43.53     172.63                   46.99           100   \n",
       "546      Bom Jesus     -9.07     -44.36                   75.65            55   \n",
       "\n",
       "     Cloudiness (%)  Wind Speed (mph) Country      Date/Time (UTC)  \n",
       "0                32             20.33      AU  2020-06-18 03:19:28  \n",
       "1                42              1.99      AU  2020-06-18 03:23:15  \n",
       "2                75              6.93      US  2020-06-18 03:24:24  \n",
       "3                58              7.56      KZ  2020-06-18 03:24:24  \n",
       "4                 9              7.25      MV  2020-06-18 03:24:24  \n",
       "..              ...               ...     ...                  ...  \n",
       "542              40             16.11      NU  2020-06-18 03:25:32  \n",
       "543              18              1.63      BR  2020-06-18 03:26:44  \n",
       "544             100              8.05      JP  2020-06-18 03:26:44  \n",
       "545             100              9.17      NZ  2020-06-18 03:23:02  \n",
       "546              84              4.72      BR  2020-06-18 03:26:45  \n",
       "\n",
       "[547 rows x 9 columns]"
      ]
     },
     "execution_count": 54,
     "metadata": {},
     "output_type": "execute_result"
    }
   ],
   "source": [
    "#Display the dataframe\n",
    "city_weather"
   ]
  },
  {
   "cell_type": "markdown",
   "metadata": {},
   "source": [
    "## Inspect the data and remove the cities where the humidity > 100%.\n",
    "----\n",
    "Skip this step if there are no cities that have humidity > 100%. "
   ]
  },
  {
   "cell_type": "code",
   "execution_count": 55,
   "metadata": {},
   "outputs": [
    {
     "name": "stdout",
     "output_type": "stream",
     "text": [
      "No city has a humidity greater than 100%\n"
     ]
    }
   ],
   "source": [
    "max_humidity = city_weather['Humidity (%)'].max()\n",
    "\n",
    "if max_humidity >= 100:\n",
    "    print('No city has a humidity greater than 100%')\n",
    "    \n",
    "#No cities have a humidity of greater than 100%"
   ]
  },
  {
   "cell_type": "code",
   "execution_count": 56,
   "metadata": {},
   "outputs": [],
   "source": [
    "#  Get the indices of cities that have humidity over 100%.\n"
   ]
  },
  {
   "cell_type": "code",
   "execution_count": 57,
   "metadata": {},
   "outputs": [],
   "source": [
    "# Make a new DataFrame equal to the city data to drop all humidity outliers by index.\n",
    "# Passing \"inplace=False\" will make a copy of the city_data DataFrame, which we call \"clean_city_data\".\n"
   ]
  },
  {
   "cell_type": "code",
   "execution_count": 58,
   "metadata": {},
   "outputs": [],
   "source": [
    "# Extract relevant fields from the data frame\n",
    "\n",
    "\n",
    "# Export the City_Data into a csv\n"
   ]
  },
  {
   "cell_type": "markdown",
   "metadata": {},
   "source": [
    "## Plotting the Data\n",
    "* Use proper labeling of the plots using plot titles (including date of analysis) and axes labels.\n",
    "* Save the plotted figures as .pngs."
   ]
  },
  {
   "cell_type": "markdown",
   "metadata": {},
   "source": [
    "## Latitude vs. Temperature Plot"
   ]
  },
  {
   "cell_type": "code",
   "execution_count": 59,
   "metadata": {
    "scrolled": true
   },
   "outputs": [
    {
     "data": {
      "image/png": "[encoded data removed]",
      "text/plain": [
       "<Figure size 432x288 with 1 Axes>"
      ]
     },
     "metadata": {
      "needs_background": "light"
     },
     "output_type": "display_data"
    },
    {
     "name": "stdout",
     "output_type": "stream",
     "text": [
      "As one would expect, the closer tothe equater one is, the higher the temperature.\n",
      "What is interesting to note, however, is that in the plot above you can see that\n",
      "the max temperature below the equator is more stable, plateauing below 30 degC.\n"
     ]
    }
   ],
   "source": [
    "#Assign Axes\n",
    "x_values = city_weather['Latitude']\n",
    "y_values = city_weather['Max Temperature (degF)']\n",
    "\n",
    "plt.scatter(x_values, y_values)\n",
    "#Title Chart\n",
    "plt.title('City Latitude vs. Temperature (degF)')\n",
    "\n",
    "#Title X-Axis\n",
    "plt.xlabel('Latitude')\n",
    "\n",
    "#Title Y-Axis\n",
    "plt.ylabel('Temperature (degF)')\n",
    "\n",
    "#Display Graph\n",
    "plt.show()\n",
    "\n",
    "#Analysis\n",
    "print('As one would expect, the closer tothe equater one is, the higher the temperature.')\n",
    "print('What is interesting to note, however, is that in the plot above you can see that')\n",
    "print('the max temperature below the equator is more stable, plateauing below 30 degC.')"
   ]
  },
  {
   "cell_type": "markdown",
   "metadata": {},
   "source": [
    "## Latitude vs. Humidity Plot"
   ]
  },
  {
   "cell_type": "code",
   "execution_count": 60,
   "metadata": {},
   "outputs": [
    {
     "data": {
      "image/png": "[encoded data removed]",
      "text/plain": [
       "<Figure size 432x288 with 1 Axes>"
      ]
     },
     "metadata": {
      "needs_background": "light"
     },
     "output_type": "display_data"
    },
    {
     "name": "stdout",
     "output_type": "stream",
     "text": [
      "There appears to be more evenly dispersed humidity levels in the northern hemisphere\n",
      "whereas in the southern hemisphere, the humidity levels are generally higher.\n"
     ]
    }
   ],
   "source": [
    "#Assign Axes\n",
    "x_values = city_weather['Latitude']\n",
    "y_values = city_weather['Humidity (%)']\n",
    "\n",
    "plt.scatter(x_values, y_values)\n",
    "#Title Chart\n",
    "plt.title('City Latitude vs. Humidity (%)')\n",
    "\n",
    "#Title X-Axis\n",
    "plt.xlabel('Latitude')\n",
    "\n",
    "#Title Y-Axis\n",
    "plt.ylabel('Humidity (%)')\n",
    "\n",
    "#Display Graph\n",
    "plt.show()\n",
    "\n",
    "#Analysis\n",
    "print('There appears to be more evenly dispersed humidity levels in the northern hemisphere')\n",
    "print('whereas in the southern hemisphere, the humidity levels are generally higher.')\n"
   ]
  },
  {
   "cell_type": "markdown",
   "metadata": {},
   "source": [
    "## Latitude vs. Cloudiness Plot"
   ]
  },
  {
   "cell_type": "code",
   "execution_count": 61,
   "metadata": {},
   "outputs": [
    {
     "data": {
      "image/png": "[encoded data removed]",
      "text/plain": [
       "<Figure size 432x288 with 1 Axes>"
      ]
     },
     "metadata": {
      "needs_background": "light"
     },
     "output_type": "display_data"
    },
    {
     "name": "stdout",
     "output_type": "stream",
     "text": [
      "Based on graph analysis alone, locations appear to be more likely to report\n",
      "values at numbers that they are comfortable with (i.e. 100%, 75%, 40%,\n",
      "20% and 0%). That would be my explanation of the \"lines\" in the plot below.\n"
     ]
    }
   ],
   "source": [
    "#Assign Axes\n",
    "x_values = city_weather['Latitude']\n",
    "y_values = city_weather['Cloudiness (%)']\n",
    "\n",
    "plt.scatter(x_values, y_values)\n",
    "#Title Chart\n",
    "plt.title('City Latitude vs. Cloudiness (%)')\n",
    "\n",
    "#Title X-Axis\n",
    "plt.xlabel('Latitude')\n",
    "\n",
    "#Title Y-Axis\n",
    "plt.ylabel('Cloudiness (%)')\n",
    "\n",
    "#Display Graph\n",
    "plt.show()\n",
    "\n",
    "print('Based on graph analysis alone, locations appear to be more likely to report')\n",
    "print('values at numbers that they are comfortable with (i.e. 100%, 75%, 40%,')\n",
    "print('20% and 0%). That would be my explanation of the \"lines\" in the plot below.')"
   ]
  },
  {
   "cell_type": "markdown",
   "metadata": {},
   "source": [
    "## Latitude vs. Wind Speed Plot"
   ]
  },
  {
   "cell_type": "code",
   "execution_count": 62,
   "metadata": {},
   "outputs": [
    {
     "data": {
      "image/png": "[encoded data removed]",
      "text/plain": [
       "<Figure size 432x288 with 1 Axes>"
      ]
     },
     "metadata": {
      "needs_background": "light"
     },
     "output_type": "display_data"
    },
    {
     "name": "stdout",
     "output_type": "stream",
     "text": [
      "Finding a pattern in the above plot is more difficult. The wind speed data looks\n",
      "to be more heterogeneous with the majority of values being reported at below 8 m/s.\n"
     ]
    }
   ],
   "source": [
    "#Assign Axes\n",
    "x_values = city_weather['Latitude']\n",
    "y_values = city_weather['Wind Speed (mph)']\n",
    "\n",
    "plt.scatter(x_values, y_values)\n",
    "#Title Chart\n",
    "plt.title('City Latitude vs. Wind Speed (mph)')\n",
    "\n",
    "#Title X-Axis\n",
    "plt.xlabel('Latitude')\n",
    "\n",
    "#Title Y-Axis\n",
    "plt.ylabel('Wind Speed (mph)')\n",
    "\n",
    "#Display Graph\n",
    "plt.show()\n",
    "\n",
    "#Analysis\n",
    "print('Finding a pattern in the above plot is more difficult. The wind speed data looks')\n",
    "print('to be more heterogeneous with the majority of values being reported at below 8 m/s.')"
   ]
  },
  {
   "cell_type": "markdown",
   "metadata": {},
   "source": [
    "## Linear Regression"
   ]
  },
  {
   "cell_type": "code",
   "execution_count": 63,
   "metadata": {},
   "outputs": [],
   "source": [
    "# OPTIONAL: Create a function to create Linear Regression plots"
   ]
  },
  {
   "cell_type": "code",
   "execution_count": 64,
   "metadata": {},
   "outputs": [],
   "source": [
    "# Create Northern and Southern Hemisphere DataFrames\n",
    "\n",
    "north = city_weather.loc[city_weather['Latitude'] >= 0]\n",
    "south = city_weather.loc[city_weather['Latitude'] < 0]"
   ]
  },
  {
   "cell_type": "markdown",
   "metadata": {},
   "source": [
    "####  Northern Hemisphere - Max Temp vs. Latitude Linear Regression"
   ]
  },
  {
   "cell_type": "code",
   "execution_count": 65,
   "metadata": {},
   "outputs": [
    {
     "data": {
      "image/png": "[encoded data removed]",
      "text/plain": [
       "<Figure size 432x288 with 1 Axes>"
      ]
     },
     "metadata": {
      "needs_background": "light"
     },
     "output_type": "display_data"
    },
    {
     "name": "stdout",
     "output_type": "stream",
     "text": [
      "The correlation coefficient between Northern Hemisphere Latitude and Temperature is -0.71\n"
     ]
    }
   ],
   "source": [
    "#Assign Axes\n",
    "x_values = north['Latitude']\n",
    "y_values = north['Max Temperature (degF)']\n",
    "\n",
    "plt.scatter(x_values, y_values)\n",
    "#Title Chart\n",
    "plt.title('Northern Hemisphere \\n City Latitude vs. Temperature (degF)')\n",
    "\n",
    "#Title X-Axis\n",
    "plt.xlabel('Latitude')\n",
    "\n",
    "#Title Y-Axis\n",
    "plt.ylabel('Temperature (degF)')\n",
    "\n",
    "#Find Linear Regression Values\n",
    "(slope, intercept, rvalue, pvalue, stderr) = linregress(x_values, y_values)\n",
    "\n",
    "#Create Equation for the Line\n",
    "line_eq = \"y = \" + str(round(slope,2)) + \"x + \" + str(round(intercept,2))\n",
    "\n",
    "#Annotate line equation on scatter plit\n",
    "plt.annotate(line_eq,(0, 40),color=\"blue\", fontsize = 16, backgroundcolor=\"w\")\n",
    "\n",
    "#Create and Display linear regression best-fit for data\n",
    "regress_values = x_values * slope + intercept\n",
    "plt.plot(x_values,regress_values, color='blue')\n",
    "\n",
    "#Display Plot\n",
    "plt.show()\n",
    "\n",
    "#Calculate correlation coefficient (not required, but wanted an indicator of fit)\n",
    "correlation = st.pearsonr(x_values,y_values)\n",
    "\n",
    "#Display Pearson correlation coefficient\n",
    "print(f\"The correlation coefficient between Northern Hemisphere Latitude and Temperature is {round(correlation[0],2)}\")"
   ]
  },
  {
   "cell_type": "markdown",
   "metadata": {},
   "source": [
    "####  Southern Hemisphere - Max Temp vs. Latitude Linear Regression"
   ]
  },
  {
   "cell_type": "code",
   "execution_count": 66,
   "metadata": {},
   "outputs": [
    {
     "data": {
      "image/png": "[encoded data removed]",
      "text/plain": [
       "<Figure size 432x288 with 1 Axes>"
      ]
     },
     "metadata": {
      "needs_background": "light"
     },
     "output_type": "display_data"
    },
    {
     "name": "stdout",
     "output_type": "stream",
     "text": [
      "The correlation coefficient between Southern Hemisphere Latitude and Temperature is 0.71\n"
     ]
    }
   ],
   "source": [
    "#Assign Axes\n",
    "x_values = south['Latitude']\n",
    "y_values = south['Max Temperature (degF)']\n",
    "\n",
    "plt.scatter(x_values, y_values)\n",
    "#Title Chart\n",
    "plt.title('Southern Hemisphere \\n City Latitude vs. Temperature (degF)')\n",
    "\n",
    "#Title X-Axis\n",
    "plt.xlabel('Latitude')\n",
    "\n",
    "#Title Y-Axis\n",
    "plt.ylabel('Temperature (degF)')\n",
    "\n",
    "#Find Linear Regression Values\n",
    "(slope, intercept, rvalue, pvalue, stderr) = linregress(x_values, y_values)\n",
    "\n",
    "#Create Equation for the Line\n",
    "line_eq = \"y = \" + str(round(slope,2)) + \"x + \" + str(round(intercept,2))\n",
    "\n",
    "#Annotate line equation on scatter plit\n",
    "plt.annotate(line_eq,(-27, 40),color=\"blue\", fontsize = 16, backgroundcolor=\"w\")\n",
    "\n",
    "#Create and Display linear regression best-fit for data\n",
    "regress_values = x_values * slope + intercept\n",
    "plt.plot(x_values,regress_values, color='blue')\n",
    "\n",
    "#Display Plot\n",
    "plt.show()\n",
    "\n",
    "#Calculate correlation coefficient (not required, but wanted an indicator of fit)\n",
    "correlation = st.pearsonr(x_values,y_values)\n",
    "\n",
    "#Display Pearson correlation coefficient\n",
    "print(f\"The correlation coefficient between Southern Hemisphere Latitude and Temperature is {round(correlation[0],2)}\")"
   ]
  },
  {
   "cell_type": "markdown",
   "metadata": {},
   "source": [
    "####  Northern Hemisphere - Humidity (%) vs. Latitude Linear Regression"
   ]
  },
  {
   "cell_type": "code",
   "execution_count": 67,
   "metadata": {},
   "outputs": [
    {
     "data": {
      "image/png": "[encoded data removed]",
      "text/plain": [
       "<Figure size 432x288 with 1 Axes>"
      ]
     },
     "metadata": {
      "needs_background": "light"
     },
     "output_type": "display_data"
    },
    {
     "name": "stdout",
     "output_type": "stream",
     "text": [
      "The correlation coefficient between Northern Hemisphere Latitude and Humidity is -0.13\n"
     ]
    }
   ],
   "source": [
    "#Assign Axes\n",
    "x_values = north['Latitude']\n",
    "y_values = north['Humidity (%)']\n",
    "\n",
    "plt.scatter(x_values, y_values)\n",
    "#Title Chart\n",
    "plt.title('Northern Hemisphere \\n City Latitude vs. Humidity (%)')\n",
    "\n",
    "#Title X-Axis\n",
    "plt.xlabel('Latitude')\n",
    "\n",
    "#Title Y-Axis\n",
    "plt.ylabel('Humidity (%)')\n",
    "\n",
    "#Find Linear Regression Values\n",
    "(slope, intercept, rvalue, pvalue, stderr) = linregress(x_values, y_values)\n",
    "\n",
    "#Create Equation for the Line\n",
    "line_eq = \"y = \" + str(round(slope,2)) + \"x + \" + str(round(intercept,2))\n",
    "\n",
    "#Annotate line equation on scatter plit\n",
    "plt.annotate(line_eq,(47, 10),color=\"blue\", fontsize = 13, backgroundcolor=\"w\")\n",
    "\n",
    "#Create and Display linear regression best-fit for data\n",
    "regress_values = x_values * slope + intercept\n",
    "plt.plot(x_values,regress_values, color='blue')\n",
    "\n",
    "#Display Plot\n",
    "plt.show()\n",
    "\n",
    "#Calculate correlation coefficient (not required, but wanted an indicator of fit)\n",
    "correlation = st.pearsonr(x_values,y_values)\n",
    "\n",
    "#Display Pearson correlation coefficient\n",
    "print(f\"The correlation coefficient between Northern Hemisphere Latitude and Humidity is {round(correlation[0],2)}\")"
   ]
  },
  {
   "cell_type": "markdown",
   "metadata": {},
   "source": [
    "####  Southern Hemisphere - Humidity (%) vs. Latitude Linear Regression"
   ]
  },
  {
   "cell_type": "code",
   "execution_count": 68,
   "metadata": {},
   "outputs": [
    {
     "data": {
      "image/png": "[encoded data removed]",
      "text/plain": [
       "<Figure size 432x288 with 1 Axes>"
      ]
     },
     "metadata": {
      "needs_background": "light"
     },
     "output_type": "display_data"
    },
    {
     "name": "stdout",
     "output_type": "stream",
     "text": [
      "The correlation coefficient between Southern Hemisphere Latitude and Humidity is 0.06\n"
     ]
    }
   ],
   "source": [
    "#Assign Axes\n",
    "x_values = south['Latitude']\n",
    "y_values = south['Humidity (%)']\n",
    "\n",
    "plt.scatter(x_values, y_values)\n",
    "#Title Chart\n",
    "plt.title('Southern Hemisphere \\n City Latitude vs. Humidity (%)')\n",
    "\n",
    "#Title X-Axis\n",
    "plt.xlabel('Latitude')\n",
    "\n",
    "#Title Y-Axis\n",
    "plt.ylabel('Humidity (%)')\n",
    "\n",
    "#Find Linear Regression Values\n",
    "(slope, intercept, rvalue, pvalue, stderr) = linregress(x_values, y_values)\n",
    "\n",
    "#Create Equation for the Line\n",
    "line_eq = \"y = \" + str(round(slope,2)) + \"x + \" + str(round(intercept,2))\n",
    "\n",
    "#Annotate line equation on scatter plit\n",
    "plt.annotate(line_eq,(-55, 17),color=\"blue\", fontsize = 13, backgroundcolor=\"w\")\n",
    "\n",
    "#Create and Display linear regression best-fit for data\n",
    "regress_values = x_values * slope + intercept\n",
    "plt.plot(x_values,regress_values, color='blue')\n",
    "\n",
    "#Display Plot\n",
    "plt.show()\n",
    "\n",
    "#Calculate correlation coefficient (not required, but wanted an indicator of fit)\n",
    "correlation = st.pearsonr(x_values,y_values)\n",
    "\n",
    "#Display Pearson correlation coefficient\n",
    "print(f\"The correlation coefficient between Southern Hemisphere Latitude and Humidity is {round(correlation[0],2)}\")"
   ]
  },
  {
   "cell_type": "markdown",
   "metadata": {},
   "source": [
    "####  Northern Hemisphere - Cloudiness (%) vs. Latitude Linear Regression"
   ]
  },
  {
   "cell_type": "code",
   "execution_count": 69,
   "metadata": {},
   "outputs": [
    {
     "data": {
      "image/png": "[encoded data removed]",
      "text/plain": [
       "<Figure size 432x288 with 1 Axes>"
      ]
     },
     "metadata": {
      "needs_background": "light"
     },
     "output_type": "display_data"
    },
    {
     "name": "stdout",
     "output_type": "stream",
     "text": [
      "The correlation coefficient between Northern Hemisphere Latitude and Cloudiness is -0.08\n"
     ]
    }
   ],
   "source": [
    "#Assign Axes\n",
    "x_values = north['Latitude']\n",
    "y_values = north['Cloudiness (%)']\n",
    "\n",
    "plt.scatter(x_values, y_values)\n",
    "#Title Chart\n",
    "plt.title('Northern Hemisphere \\n City Latitude vs. Cloudiness (%)')\n",
    "\n",
    "#Title X-Axis\n",
    "plt.xlabel('Latitude')\n",
    "\n",
    "#Title Y-Axis\n",
    "plt.ylabel('Cloudiness (%)')\n",
    "\n",
    "#Find Linear Regression Values\n",
    "(slope, intercept, rvalue, pvalue, stderr) = linregress(x_values, y_values)\n",
    "\n",
    "#Create Equation for the Line\n",
    "line_eq = \"y = \" + str(round(slope,2)) + \"x + \" + str(round(intercept,2))\n",
    "\n",
    "#Annotate line equation on scatter plit\n",
    "plt.annotate(line_eq,(48, 30),color=\"blue\", fontsize = 12, backgroundcolor=\"w\")\n",
    "\n",
    "#Create and Display linear regression best-fit for data\n",
    "regress_values = x_values * slope + intercept\n",
    "plt.plot(x_values,regress_values, color='blue')\n",
    "\n",
    "#Display Plot\n",
    "plt.show()\n",
    "\n",
    "#Calculate correlation coefficient (not required, but wanted an indicator of fit)\n",
    "correlation = st.pearsonr(x_values,y_values)\n",
    "\n",
    "#Display Pearson correlation coefficient\n",
    "print(f\"The correlation coefficient between Northern Hemisphere Latitude and Cloudiness is {round(correlation[0],2)}\")"
   ]
  },
  {
   "cell_type": "markdown",
   "metadata": {},
   "source": [
    "####  Southern Hemisphere - Cloudiness (%) vs. Latitude Linear Regression"
   ]
  },
  {
   "cell_type": "code",
   "execution_count": 70,
   "metadata": {},
   "outputs": [
    {
     "data": {
      "image/png": "[encoded data removed]",
      "text/plain": [
       "<Figure size 432x288 with 1 Axes>"
      ]
     },
     "metadata": {
      "needs_background": "light"
     },
     "output_type": "display_data"
    },
    {
     "name": "stdout",
     "output_type": "stream",
     "text": [
      "The correlation coefficient between Southern Hemisphere Latitude and Cloudiness is -0.01\n"
     ]
    }
   ],
   "source": [
    "#Assign Axes\n",
    "x_values = south['Latitude']\n",
    "y_values = south['Cloudiness (%)']\n",
    "\n",
    "plt.scatter(x_values, y_values)\n",
    "#Title Chart\n",
    "plt.title('Southern Hemisphere \\n City Latitude vs. Cloudiness (%)')\n",
    "\n",
    "#Title X-Axis\n",
    "plt.xlabel('Latitude')\n",
    "\n",
    "#Title Y-Axis\n",
    "plt.ylabel('Cloudiness (%)')\n",
    "\n",
    "#Find Linear Regression Values\n",
    "(slope, intercept, rvalue, pvalue, stderr) = linregress(x_values, y_values)\n",
    "\n",
    "#Create Equation for the Line\n",
    "line_eq = \"y = \" + str(round(slope,2)) + \"x + \" + str(round(intercept,2))\n",
    "\n",
    "#Annotate line equation on scatter plit\n",
    "plt.annotate(line_eq,(-55, 60),color=\"blue\", fontsize = 12, backgroundcolor=\"w\")\n",
    "\n",
    "#Create and Display linear regression best-fit for data\n",
    "regress_values = x_values * slope + intercept\n",
    "plt.plot(x_values,regress_values, color='blue')\n",
    "\n",
    "#Display Plot\n",
    "plt.show()\n",
    "\n",
    "#Calculate correlation coefficient (not required, but wanted an indicator of fit)\n",
    "correlation = st.pearsonr(x_values,y_values)\n",
    "\n",
    "#Display Pearson correlation coefficient\n",
    "print(f\"The correlation coefficient between Southern Hemisphere Latitude and Cloudiness is {round(correlation[0],2)}\")"
   ]
  },
  {
   "cell_type": "markdown",
   "metadata": {},
   "source": [
    "####  Northern Hemisphere - Wind Speed (mph) vs. Latitude Linear Regression"
   ]
  },
  {
   "cell_type": "code",
   "execution_count": 71,
   "metadata": {},
   "outputs": [
    {
     "data": {
      "image/png": "[encoded data removed]",
      "text/plain": [
       "<Figure size 432x288 with 1 Axes>"
      ]
     },
     "metadata": {
      "needs_background": "light"
     },
     "output_type": "display_data"
    },
    {
     "name": "stdout",
     "output_type": "stream",
     "text": [
      "The correlation coefficient between Northern Hemisphere Latitude and Wind Speed is -0.04\n"
     ]
    }
   ],
   "source": [
    "#Assign Axes\n",
    "x_values = north['Latitude']\n",
    "y_values = north['Wind Speed (mph)']\n",
    "\n",
    "plt.scatter(x_values, y_values)\n",
    "#Title Chart\n",
    "plt.title('Northern Hemisphere \\n City Latitude vs. Wind Speed (mph)')\n",
    "\n",
    "#Title X-Axis\n",
    "plt.xlabel('Latitude')\n",
    "\n",
    "#Title Y-Axis\n",
    "plt.ylabel('Wind Speed (mph)')\n",
    "\n",
    "#Find Linear Regression Values\n",
    "(slope, intercept, rvalue, pvalue, stderr) = linregress(x_values, y_values)\n",
    "\n",
    "#Create Equation for the Line\n",
    "line_eq = \"y = \" + str(round(slope,2)) + \"x + \" + str(round(intercept,2))\n",
    "\n",
    "#Annotate line equation on scatter plit\n",
    "plt.annotate(line_eq,(20, 27),color=\"blue\", fontsize = 16, backgroundcolor=\"w\")\n",
    "\n",
    "#Create and Display linear regression best-fit for data\n",
    "regress_values = x_values * slope + intercept\n",
    "plt.plot(x_values,regress_values, color='blue')\n",
    "\n",
    "#Display Plot\n",
    "plt.show()\n",
    "\n",
    "#Calculate correlation coefficient (not required, but wanted an indicator of fit)\n",
    "correlation = st.pearsonr(x_values,y_values)\n",
    "\n",
    "#Display Pearson correlation coefficient\n",
    "print(f\"The correlation coefficient between Northern Hemisphere Latitude and Wind Speed is {round(correlation[0],2)}\")"
   ]
  },
  {
   "cell_type": "markdown",
   "metadata": {},
   "source": [
    "####  Southern Hemisphere - Wind Speed (mph) vs. Latitude Linear Regression"
   ]
  },
  {
   "cell_type": "code",
   "execution_count": 72,
   "metadata": {},
   "outputs": [
    {
     "data": {
      "image/png": "[encoded data removed]",
      "text/plain": [
       "<Figure size 432x288 with 1 Axes>"
      ]
     },
     "metadata": {
      "needs_background": "light"
     },
     "output_type": "display_data"
    },
    {
     "name": "stdout",
     "output_type": "stream",
     "text": [
      "The correlation coefficient between Southern Hemisphere Latitude and Wind Speed is -0.15\n"
     ]
    }
   ],
   "source": [
    "#Assign Axes\n",
    "x_values = south['Latitude']\n",
    "y_values = south['Wind Speed (mph)']\n",
    "\n",
    "plt.scatter(x_values, y_values)\n",
    "#Title Chart\n",
    "plt.title('Southern Hemisphere \\n City Latitude vs. Wind Speed (mph)')\n",
    "\n",
    "#Title X-Axis\n",
    "plt.xlabel('Latitude')\n",
    "\n",
    "#Title Y-Axis\n",
    "plt.ylabel('Wind Speed (mph)')\n",
    "\n",
    "#Find Linear Regression Values\n",
    "(slope, intercept, rvalue, pvalue, stderr) = linregress(x_values, y_values)\n",
    "\n",
    "#Create Equation for the Line\n",
    "line_eq = \"y = \" + str(round(slope,2)) + \"x + \" + str(round(intercept,2))\n",
    "\n",
    "#Annotate line equation on scatter plit\n",
    "plt.annotate(line_eq,(-55, 18),color=\"blue\", fontsize = 16, backgroundcolor=\"w\")\n",
    "\n",
    "#Create and Display linear regression best-fit for data\n",
    "regress_values = x_values * slope + intercept\n",
    "plt.plot(x_values,regress_values, color='blue')\n",
    "\n",
    "#Display Plot\n",
    "plt.show()\n",
    "\n",
    "#Calculate correlation coefficient (not required, but wanted an indicator of fit)\n",
    "correlation = st.pearsonr(x_values,y_values)\n",
    "\n",
    "#Display Pearson correlation coefficient\n",
    "print(f\"The correlation coefficient between Southern Hemisphere Latitude and Wind Speed is {round(correlation[0],2)}\")"
   ]
  }
 ],
 "metadata": {
  "anaconda-cloud": {},
  "kernel_info": {
   "name": "python3"
  },
  "kernelspec": {
   "display_name": "Python [conda env:PythonData] *",
   "language": "python",
   "name": "conda-env-PythonData-py"
  },
  "language_info": {
   "codemirror_mode": {
    "name": "ipython",
    "version": 3
   },
   "file_extension": ".py",
   "mimetype": "text/x-python",
   "name": "python",
   "nbconvert_exporter": "python",
   "pygments_lexer": "ipython3",
   "version": "3.8.3"
  },
  "latex_envs": {
   "LaTeX_envs_menu_present": true,
   "autoclose": false,
   "autocomplete": true,
   "bibliofile": "biblio.bib",
   "cite_by": "apalike",
   "current_citInitial": 1,
   "eqLabelWithNumbers": true,
   "eqNumInitial": 1,
   "hotkeys": {
    "equation": "Ctrl-E",
    "itemize": "Ctrl-I"
   },
   "labels_anchors": false,
   "latex_user_defs": false,
   "report_style_numbering": false,
   "user_envs_cfg": false
  },
  "nteract": {
   "version": "0.12.3"
  }
 },
 "nbformat": 4,
 "nbformat_minor": 2
}
